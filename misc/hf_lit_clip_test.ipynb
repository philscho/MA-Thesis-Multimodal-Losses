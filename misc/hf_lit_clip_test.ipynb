{
 "cells": [
  {
   "cell_type": "code",
   "execution_count": 1,
   "metadata": {},
   "outputs": [
    {
     "name": "stderr",
     "output_type": "stream",
     "text": [
      "/home/phisch/venv_py3.8/py3.8/lib/python3.8/site-packages/tqdm/auto.py:21: TqdmWarning: IProgress not found. Please update jupyter and ipywidgets. See https://ipywidgets.readthedocs.io/en/stable/user_install.html\n",
      "  from .autonotebook import tqdm as notebook_tqdm\n"
     ]
    }
   ],
   "source": [
    "from datasets import load_dataset\n",
    "\n",
    "# load cifar10 (only small portion for demonstration purposes) \n",
    "train_ds, val_ds, test_ds = load_dataset(\"yerevann/coco-karpathy\", split=['train', 'validation', 'test'])"
   ]
  },
  {
   "cell_type": "code",
   "execution_count": 4,
   "metadata": {},
   "outputs": [
    {
     "data": {
      "text/plain": [
       "{'filepath': 'train2014',\n",
       " 'sentids': [787980, 789366, 789888, 791316, 794853],\n",
       " 'filename': 'COCO_train2014_000000057870.jpg',\n",
       " 'imgid': 40504,\n",
       " 'split': 'train',\n",
       " 'sentences': ['A restaurant has modern wooden tables and chairs.',\n",
       "  'A long restaurant table with rattan rounded back chairs.',\n",
       "  'a long table with a plant on top of it surrounded with wooden chairs ',\n",
       "  'A long table with a flower arrangement in the middle for meetings',\n",
       "  'A table is adorned with wooden chairs with blue accents.'],\n",
       " 'cocoid': 57870,\n",
       " 'url': 'http://images.cocodataset.org/train2014/COCO_train2014_000000057870.jpg'}"
      ]
     },
     "execution_count": 4,
     "metadata": {},
     "output_type": "execute_result"
    }
   ],
   "source": [
    "train_ds[0]"
   ]
  },
  {
   "cell_type": "code",
   "execution_count": 11,
   "metadata": {},
   "outputs": [],
   "source": [
    "import os\n",
    "from PIL import Image\n",
    "\n",
    "import torch\n",
    "from torch.utils.data import Dataset\n",
    "\n",
    "class CocoDataset(Dataset):\n",
    "    def __init__(self, dataset, image_dir, processor=None, transform=None):\n",
    "        self.dataset = dataset\n",
    "        self.image_dir = image_dir\n",
    "        self.processor = processor\n",
    "        self.transform = transform\n",
    "\n",
    "    def __len__(self):\n",
    "        return len(self.dataset)\n",
    "    \n",
    "    def __getitem__(self, idx):\n",
    "        sample = self.dataset[idx]\n",
    "        #img_filename = sample['filename']\n",
    "        img_filenames = sample['filename']\n",
    "        img_filename = img_filenames[0] if isinstance(img_filenames, list) else img_filenames\n",
    "        img_path = os.path.join(self.image_dir, img_filename)       \n",
    "        # Load image\n",
    "        image = Image.open(img_path).convert('RGB')\n",
    "        \n",
    "        # Apply transformations if provided\n",
    "        if self.processor:\n",
    "            img = torch.squeeze(self.processor(images=image, return_tensors=\"pt\").pixel_values)\n",
    "        else:\n",
    "            img = image\n",
    "\n",
    "        if self.transform:\n",
    "            img = self.transform(img)\n",
    "        \n",
    "        # Extract captions\n",
    "        captions = sample['sentences']\n",
    "        # Take the first caption\n",
    "        caption = captions[0]\n",
    "        \n",
    "        return img, caption"
   ]
  },
  {
   "cell_type": "code",
   "execution_count": 6,
   "metadata": {},
   "outputs": [],
   "source": [
    "from transformers import AutoImageProcessor\n",
    "\n",
    "processor = AutoImageProcessor.from_pretrained(\"google/vit-base-patch16-224\")\n",
    "image_mean = processor.image_mean\n",
    "image_std = processor.image_std\n",
    "size = processor.size[\"height\"]"
   ]
  },
  {
   "cell_type": "code",
   "execution_count": 22,
   "metadata": {},
   "outputs": [
    {
     "data": {
      "text/plain": [
       "[array([[[-0.5921569 , -0.5764706 , -0.5686275 , ..., -0.8039216 ,\n",
       "          -0.8117647 , -0.8039216 ],\n",
       "         [-0.5921569 , -0.58431375, -0.5921569 , ..., -0.73333335,\n",
       "          -0.75686276, -0.7254902 ],\n",
       "         [-0.6       , -0.60784316, -0.60784316, ..., -0.5686275 ,\n",
       "          -0.58431375, -0.67058825],\n",
       "         ...,\n",
       "         [-0.8509804 , -0.8509804 , -0.84313726, ..., -0.827451  ,\n",
       "          -0.81960785, -0.81960785],\n",
       "         [-0.84313726, -0.827451  , -0.81960785, ..., -0.827451  ,\n",
       "          -0.81960785, -0.827451  ],\n",
       "         [-0.827451  , -0.827451  , -0.81960785, ..., -0.81960785,\n",
       "          -0.827451  , -0.8509804 ]],\n",
       " \n",
       "        [[-0.56078434, -0.54509807, -0.5372549 , ..., -0.7882353 ,\n",
       "          -0.79607844, -0.79607844],\n",
       "         [-0.56078434, -0.5529412 , -0.56078434, ..., -0.6862745 ,\n",
       "          -0.7019608 , -0.67058825],\n",
       "         [-0.5686275 , -0.58431375, -0.58431375, ..., -0.49019605,\n",
       "          -0.49019605, -0.5764706 ],\n",
       "         ...,\n",
       "         [-0.8980392 , -0.90588236, -0.9137255 , ..., -0.827451  ,\n",
       "          -0.81960785, -0.81960785],\n",
       "         [-0.8980392 , -0.8980392 , -0.8980392 , ..., -0.827451  ,\n",
       "          -0.81960785, -0.827451  ],\n",
       "         [-0.8980392 , -0.8980392 , -0.8901961 , ..., -0.8117647 ,\n",
       "          -0.81960785, -0.827451  ]],\n",
       " \n",
       "        [[-0.5372549 , -0.52156866, -0.5137255 , ..., -0.78039217,\n",
       "          -0.79607844, -0.8117647 ],\n",
       "         [-0.5372549 , -0.5294118 , -0.5372549 , ..., -0.6784314 ,\n",
       "          -0.70980394, -0.6784314 ],\n",
       "         [-0.54509807, -0.56078434, -0.5529412 , ..., -0.4823529 ,\n",
       "          -0.49019605, -0.58431375],\n",
       "         ...,\n",
       "         [-0.8980392 , -0.90588236, -0.90588236, ..., -0.7647059 ,\n",
       "          -0.7490196 , -0.7411765 ],\n",
       "         [-0.8980392 , -0.8901961 , -0.8901961 , ..., -0.77254903,\n",
       "          -0.7490196 , -0.75686276],\n",
       "         [-0.8901961 , -0.8901961 , -0.88235295, ..., -0.7647059 ,\n",
       "          -0.7647059 , -0.77254903]]], dtype=float32)]"
      ]
     },
     "execution_count": 22,
     "metadata": {},
     "output_type": "execute_result"
    }
   ],
   "source": [
    "image = Image.open(os.path.join('/home/data/COCOcaptions/train2014', train_ds[420]['filename'])).convert('RGB')\n",
    "processor(image)['pixel_values']"
   ]
  },
  {
   "cell_type": "code",
   "execution_count": 5,
   "metadata": {},
   "outputs": [],
   "source": [
    "from torchvision.transforms import (CenterCrop, \n",
    "                                    Compose, \n",
    "                                    Normalize, \n",
    "                                    RandomHorizontalFlip,\n",
    "                                    RandomResizedCrop, \n",
    "                                    Resize, \n",
    "                                    ToTensor)\n",
    "\n",
    "normalize = Normalize(mean=image_mean, std=image_std)\n",
    "_train_transforms = Compose(\n",
    "        [\n",
    "            RandomResizedCrop(size),\n",
    "            RandomHorizontalFlip(),\n",
    "            ToTensor(),\n",
    "            normalize,\n",
    "        ]\n",
    "    )\n",
    "\n",
    "_val_transforms = Compose(\n",
    "        [\n",
    "            Resize(size),\n",
    "            CenterCrop(size),\n",
    "            ToTensor(),\n",
    "            normalize,\n",
    "        ]\n",
    "    )\n",
    "\n",
    "def train_transforms(examples):\n",
    "    examples['pixel_values'] = [_train_transforms(image.convert(\"RGB\")) for image in examples['img']]\n",
    "    return examples\n",
    "\n",
    "def val_transforms(examples):\n",
    "    examples['pixel_values'] = [_val_transforms(image.convert(\"RGB\")) for image in examples['img']]\n",
    "    return examples"
   ]
  },
  {
   "cell_type": "code",
   "execution_count": 6,
   "metadata": {},
   "outputs": [],
   "source": [
    "# Set the transforms\n",
    "train_ds.set_transform(train_transforms)\n",
    "val_ds.set_transform(val_transforms)\n",
    "test_ds.set_transform(val_transforms)"
   ]
  },
  {
   "cell_type": "code",
   "execution_count": 7,
   "metadata": {},
   "outputs": [
    {
     "data": {
      "text/plain": [
       "{'img': [<PIL.PngImagePlugin.PngImageFile image mode=RGB size=32x32>,\n",
       "  <PIL.PngImagePlugin.PngImageFile image mode=RGB size=32x32>],\n",
       " 'label': [5, 8],\n",
       " 'pixel_values': [tensor([[[-0.6471, -0.6471, -0.6471,  ..., -0.7333, -0.7333, -0.7333],\n",
       "           [-0.6471, -0.6471, -0.6471,  ..., -0.7333, -0.7333, -0.7333],\n",
       "           [-0.6471, -0.6471, -0.6471,  ..., -0.7333, -0.7333, -0.7333],\n",
       "           ...,\n",
       "           [-0.5294, -0.5294, -0.5294,  ..., -0.6000, -0.6000, -0.6000],\n",
       "           [-0.5294, -0.5294, -0.5294,  ..., -0.6000, -0.6000, -0.6000],\n",
       "           [-0.5294, -0.5294, -0.5294,  ..., -0.6000, -0.6000, -0.6000]],\n",
       "  \n",
       "          [[-0.2078, -0.2078, -0.2078,  ..., -0.4510, -0.4510, -0.4510],\n",
       "           [-0.2078, -0.2078, -0.2078,  ..., -0.4510, -0.4510, -0.4510],\n",
       "           [-0.2078, -0.2078, -0.2078,  ..., -0.4510, -0.4510, -0.4510],\n",
       "           ...,\n",
       "           [-0.1294, -0.1294, -0.1294,  ..., -0.2863, -0.2863, -0.2863],\n",
       "           [-0.1294, -0.1294, -0.1294,  ..., -0.2863, -0.2863, -0.2863],\n",
       "           [-0.1294, -0.1294, -0.1294,  ..., -0.2863, -0.2863, -0.2863]],\n",
       "  \n",
       "          [[-0.4196, -0.4196, -0.4196,  ..., -0.6000, -0.6000, -0.6000],\n",
       "           [-0.4196, -0.4196, -0.4196,  ..., -0.6000, -0.6000, -0.6000],\n",
       "           [-0.4196, -0.4196, -0.4196,  ..., -0.6000, -0.6000, -0.6000],\n",
       "           ...,\n",
       "           [-0.3098, -0.3098, -0.3098,  ..., -0.4118, -0.4118, -0.4118],\n",
       "           [-0.3098, -0.3098, -0.3098,  ..., -0.4118, -0.4118, -0.4118],\n",
       "           [-0.3098, -0.3098, -0.3098,  ..., -0.4118, -0.4118, -0.4118]]]),\n",
       "  tensor([[[-0.2078, -0.2078, -0.2078,  ..., -0.2392, -0.2392, -0.2392],\n",
       "           [-0.2078, -0.2078, -0.2078,  ..., -0.2392, -0.2392, -0.2392],\n",
       "           [-0.2078, -0.2078, -0.2078,  ..., -0.2392, -0.2392, -0.2392],\n",
       "           ...,\n",
       "           [-0.5294, -0.5294, -0.5294,  ..., -0.0196, -0.0196, -0.0196],\n",
       "           [-0.5294, -0.5294, -0.5294,  ..., -0.0196, -0.0196, -0.0196],\n",
       "           [-0.5294, -0.5294, -0.5294,  ..., -0.0196, -0.0196, -0.0196]],\n",
       "  \n",
       "          [[ 0.0039,  0.0039,  0.0039,  ..., -0.0275, -0.0275, -0.0275],\n",
       "           [ 0.0039,  0.0039,  0.0039,  ..., -0.0275, -0.0275, -0.0275],\n",
       "           [ 0.0039,  0.0039,  0.0039,  ..., -0.0275, -0.0275, -0.0275],\n",
       "           ...,\n",
       "           [-0.5529, -0.5529, -0.5529,  ...,  0.0824,  0.0824,  0.0824],\n",
       "           [-0.5529, -0.5529, -0.5529,  ...,  0.0824,  0.0824,  0.0824],\n",
       "           [-0.5529, -0.5529, -0.5529,  ...,  0.0824,  0.0824,  0.0824]],\n",
       "  \n",
       "          [[ 0.3333,  0.3333,  0.3333,  ...,  0.3098,  0.3098,  0.3098],\n",
       "           [ 0.3333,  0.3333,  0.3333,  ...,  0.3098,  0.3098,  0.3098],\n",
       "           [ 0.3333,  0.3333,  0.3333,  ...,  0.3098,  0.3098,  0.3098],\n",
       "           ...,\n",
       "           [-0.5216, -0.5216, -0.5216,  ...,  0.2549,  0.2549,  0.2549],\n",
       "           [-0.5216, -0.5216, -0.5216,  ...,  0.2549,  0.2549,  0.2549],\n",
       "           [-0.5216, -0.5216, -0.5216,  ...,  0.2549,  0.2549,  0.2549]]])]}"
      ]
     },
     "execution_count": 7,
     "metadata": {},
     "output_type": "execute_result"
    }
   ],
   "source": [
    "train_ds[:2]"
   ]
  },
  {
   "cell_type": "code",
   "execution_count": 8,
   "metadata": {},
   "outputs": [],
   "source": [
    "from torch.utils.data import DataLoader\n",
    "import torch\n",
    "\n",
    "def collate_fn(examples):\n",
    "    pixel_values = torch.stack([example[\"pixel_values\"] for example in examples])\n",
    "    labels = torch.tensor([example[\"label\"] for example in examples])\n",
    "    return {\"pixel_values\": pixel_values, \"labels\": labels}\n",
    "\n",
    "train_batch_size = 2\n",
    "eval_batch_size = 2\n",
    "\n",
    "train_dataloader = DataLoader(train_ds, shuffle=True, collate_fn=collate_fn, batch_size=train_batch_size)\n",
    "val_dataloader = DataLoader(val_ds, collate_fn=collate_fn, batch_size=eval_batch_size)\n",
    "test_dataloader = DataLoader(test_ds, collate_fn=collate_fn, batch_size=eval_batch_size)"
   ]
  },
  {
   "cell_type": "code",
   "execution_count": 9,
   "metadata": {},
   "outputs": [
    {
     "name": "stdout",
     "output_type": "stream",
     "text": [
      "pixel_values torch.Size([2, 3, 224, 224])\n",
      "labels torch.Size([2])\n"
     ]
    }
   ],
   "source": [
    "batch = next(iter(train_dataloader))\n",
    "for k,v in batch.items():\n",
    "  if isinstance(v, torch.Tensor):\n",
    "    print(k, v.shape)"
   ]
  },
  {
   "cell_type": "code",
   "execution_count": 10,
   "metadata": {},
   "outputs": [],
   "source": [
    "assert batch['pixel_values'].shape == (train_batch_size, 3, 224, 224)\n",
    "assert batch['labels'].shape == (train_batch_size,)"
   ]
  },
  {
   "cell_type": "code",
   "execution_count": 11,
   "metadata": {},
   "outputs": [
    {
     "data": {
      "text/plain": [
       "torch.Size([2, 3, 224, 224])"
      ]
     },
     "execution_count": 11,
     "metadata": {},
     "output_type": "execute_result"
    }
   ],
   "source": [
    "next(iter(val_dataloader))['pixel_values'].shape"
   ]
  },
  {
   "cell_type": "code",
   "execution_count": 12,
   "metadata": {},
   "outputs": [],
   "source": [
    "import pytorch_lightning as pl\n",
    "from transformers import ViTForImageClassification, AdamW\n",
    "import torch.nn as nn\n",
    "\n",
    "class ViTLightningModule(pl.LightningModule):\n",
    "    def __init__(self, num_labels=10):\n",
    "        super(ViTLightningModule, self).__init__()\n",
    "        self.vit = ViTForImageClassification.from_pretrained('google/vit-base-patch16-224-in21k',\n",
    "                                                              num_labels=10,\n",
    "                                                              id2label=id2label,\n",
    "                                                              label2id=label2id)\n",
    "\n",
    "    def forward(self, pixel_values):\n",
    "        outputs = self.vit(pixel_values=pixel_values)\n",
    "        return outputs.logits\n",
    "        \n",
    "    def common_step(self, batch, batch_idx):\n",
    "        pixel_values = batch['pixel_values']\n",
    "        labels = batch['labels']\n",
    "        logits = self(pixel_values)\n",
    "\n",
    "        criterion = nn.CrossEntropyLoss()\n",
    "        loss = criterion(logits, labels)\n",
    "        predictions = logits.argmax(-1)\n",
    "        correct = (predictions == labels).sum().item()\n",
    "        accuracy = correct/pixel_values.shape[0]\n",
    "\n",
    "        return loss, accuracy\n",
    "      \n",
    "    def training_step(self, batch, batch_idx):\n",
    "        loss, accuracy = self.common_step(batch, batch_idx)     \n",
    "        # logs metrics for each training_step,\n",
    "        # and the average across the epoch\n",
    "        self.log(\"training_loss\", loss)\n",
    "        self.log(\"training_accuracy\", accuracy)\n",
    "\n",
    "        return loss\n",
    "    \n",
    "    def validation_step(self, batch, batch_idx):\n",
    "        loss, accuracy = self.common_step(batch, batch_idx)     \n",
    "        self.log(\"validation_loss\", loss, on_epoch=True)\n",
    "        self.log(\"validation_accuracy\", accuracy, on_epoch=True)\n",
    "\n",
    "        return loss\n",
    "\n",
    "    def test_step(self, batch, batch_idx):\n",
    "        loss, accuracy = self.common_step(batch, batch_idx)     \n",
    "\n",
    "        return loss\n",
    "\n",
    "    def configure_optimizers(self):\n",
    "        # We could make the optimizer more fancy by adding a scheduler and specifying which parameters do\n",
    "        # not require weight_decay but just using AdamW out-of-the-box works fine\n",
    "        return AdamW(self.parameters(), lr=5e-5)\n",
    "\n",
    "    def train_dataloader(self):\n",
    "        return train_dataloader\n",
    "\n",
    "    def val_dataloader(self):\n",
    "        return val_dataloader\n",
    "\n",
    "    def test_dataloader(self):\n",
    "        return test_dataloader"
   ]
  },
  {
   "cell_type": "code",
   "execution_count": null,
   "metadata": {},
   "outputs": [],
   "source": [
    "# Start tensorboard.\n",
    "%load_ext tensorboard\n",
    "%tensorboard --logdir lightning_logs/"
   ]
  },
  {
   "cell_type": "code",
   "execution_count": 15,
   "metadata": {},
   "outputs": [
    {
     "name": "stderr",
     "output_type": "stream",
     "text": [
      "Some weights of ViTForImageClassification were not initialized from the model checkpoint at google/vit-base-patch16-224-in21k and are newly initialized: ['classifier.bias', 'classifier.weight']\n",
      "You should probably TRAIN this model on a down-stream task to be able to use it for predictions and inference.\n",
      "Trainer will use only 1 of 4 GPUs because it is running inside an interactive / notebook environment. You may try to set `Trainer(devices=4)` but please note that multi-GPU inside interactive / notebook environments is considered experimental and unstable. Your mileage may vary.\n",
      "GPU available: True (cuda), used: True\n",
      "TPU available: False, using: 0 TPU cores\n",
      "IPU available: False, using: 0 IPUs\n",
      "HPU available: False, using: 0 HPUs\n",
      "/home/phisch/venv_py3.8/py3.8/lib/python3.8/site-packages/pytorch_lightning/loops/utilities.py:73: `max_epochs` was not set. Setting it to 1000 epochs. To train without an epoch limit, set `max_epochs=-1`.\n",
      "You are using a CUDA device ('NVIDIA A100-SXM4-40GB') that has Tensor Cores. To properly utilize them, you should set `torch.set_float32_matmul_precision('medium' | 'high')` which will trade-off precision for performance. For more details, read https://pytorch.org/docs/stable/generated/torch.set_float32_matmul_precision.html#torch.set_float32_matmul_precision\n",
      "LOCAL_RANK: 0 - CUDA_VISIBLE_DEVICES: [0,1,2,3]\n",
      "/home/phisch/venv_py3.8/py3.8/lib/python3.8/site-packages/transformers/optimization.py:429: FutureWarning: This implementation of AdamW is deprecated and will be removed in a future version. Use the PyTorch implementation torch.optim.AdamW instead, or set `no_deprecation_warning=True` to disable this warning\n",
      "  warnings.warn(\n",
      "\n",
      "  | Name | Type                      | Params\n",
      "---------------------------------------------------\n",
      "0 | vit  | ViTForImageClassification | 85.8 M\n",
      "---------------------------------------------------\n",
      "85.8 M    Trainable params\n",
      "0         Non-trainable params\n",
      "85.8 M    Total params\n",
      "343.225   Total estimated model params size (MB)\n"
     ]
    },
    {
     "name": "stdout",
     "output_type": "stream",
     "text": [
      "Sanity Checking DataLoader 0:   0%|          | 0/2 [00:00<?, ?it/s]"
     ]
    },
    {
     "name": "stderr",
     "output_type": "stream",
     "text": [
      "/home/phisch/venv_py3.8/py3.8/lib/python3.8/site-packages/pytorch_lightning/trainer/connectors/data_connector.py:441: The 'val_dataloader' does not have many workers which may be a bottleneck. Consider increasing the value of the `num_workers` argument` to `num_workers=127` in the `DataLoader` to improve performance.\n"
     ]
    },
    {
     "name": "stdout",
     "output_type": "stream",
     "text": [
      "                                                                           "
     ]
    },
    {
     "name": "stderr",
     "output_type": "stream",
     "text": [
      "/home/phisch/venv_py3.8/py3.8/lib/python3.8/site-packages/pytorch_lightning/trainer/connectors/data_connector.py:441: The 'train_dataloader' does not have many workers which may be a bottleneck. Consider increasing the value of the `num_workers` argument` to `num_workers=127` in the `DataLoader` to improve performance.\n"
     ]
    },
    {
     "name": "stdout",
     "output_type": "stream",
     "text": [
      "Epoch 5:  56%|█████▌    | 1264/2250 [02:26<01:54,  8.62it/s, v_num=3]"
     ]
    },
    {
     "name": "stderr",
     "output_type": "stream",
     "text": [
      "/home/phisch/venv_py3.8/py3.8/lib/python3.8/site-packages/pytorch_lightning/trainer/call.py:54: Detected KeyboardInterrupt, attempting graceful shutdown...\n"
     ]
    }
   ],
   "source": [
    "from pytorch_lightning import Trainer\n",
    "from pytorch_lightning.callbacks import EarlyStopping\n",
    "\n",
    "# for early stopping, see https://pytorch-lightning.readthedocs.io/en/1.0.0/early_stopping.html?highlight=early%20stopping\n",
    "early_stop_callback = EarlyStopping(\n",
    "    monitor='val_loss',\n",
    "    patience=3,\n",
    "    strict=False,\n",
    "    verbose=False,\n",
    "    mode='min'\n",
    ")\n",
    "# \n",
    "model = ViTLightningModule()\n",
    "trainer = Trainer(callbacks=[EarlyStopping(monitor='validation_loss')])\n",
    "trainer.fit(model)"
   ]
  },
  {
   "cell_type": "code",
   "execution_count": null,
   "metadata": {},
   "outputs": [],
   "source": []
  }
 ],
 "metadata": {
  "kernelspec": {
   "display_name": "py3.8",
   "language": "python",
   "name": "python3"
  },
  "language_info": {
   "codemirror_mode": {
    "name": "ipython",
    "version": 3
   },
   "file_extension": ".py",
   "mimetype": "text/x-python",
   "name": "python",
   "nbconvert_exporter": "python",
   "pygments_lexer": "ipython3",
   "version": "3.8.5"
  }
 },
 "nbformat": 4,
 "nbformat_minor": 2
}
