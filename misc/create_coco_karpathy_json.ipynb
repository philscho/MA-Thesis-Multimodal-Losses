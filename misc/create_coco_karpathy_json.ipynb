{
 "cells": [
  {
   "cell_type": "code",
   "execution_count": 1,
   "metadata": {},
   "outputs": [
    {
     "name": "stderr",
     "output_type": "stream",
     "text": [
      "/home/phisch/venv_py3.8/py3.8/lib/python3.8/site-packages/tqdm/auto.py:21: TqdmWarning: IProgress not found. Please update jupyter and ipywidgets. See https://ipywidgets.readthedocs.io/en/stable/user_install.html\n",
      "  from .autonotebook import tqdm as notebook_tqdm\n"
     ]
    }
   ],
   "source": [
    "from datasets import load_dataset"
   ]
  },
  {
   "cell_type": "code",
   "execution_count": 2,
   "metadata": {},
   "outputs": [],
   "source": [
    "dataset = load_dataset(\"yerevann/coco-karpathy\")"
   ]
  },
  {
   "cell_type": "code",
   "execution_count": 4,
   "metadata": {},
   "outputs": [],
   "source": [
    "train_split, val_split, test_split = dataset['train'], dataset['validation'], dataset['test']"
   ]
  },
  {
   "cell_type": "code",
   "execution_count": 15,
   "metadata": {},
   "outputs": [
    {
     "data": {
      "text/plain": [
       "Dataset({\n",
       "    features: ['filepath', 'sentids', 'filename', 'imgid', 'split', 'sentences', 'cocoid', 'url', 'sentence 1', 'sentence 2', 'sentence 3', 'sentence 4', 'sentence 5'],\n",
       "    num_rows: 5000\n",
       "})"
      ]
     },
     "execution_count": 15,
     "metadata": {},
     "output_type": "execute_result"
    }
   ],
   "source": [
    "val_split"
   ]
  },
  {
   "cell_type": "code",
   "execution_count": 6,
   "metadata": {},
   "outputs": [],
   "source": [
    "def split_sentences(sample):\n",
    "    for i in range(len(sample[\"sentences\"])):\n",
    "        sample[f\"sentence {i+1}\"] = sample[\"sentences\"][i]\n",
    "    return sample"
   ]
  },
  {
   "cell_type": "code",
   "execution_count": 14,
   "metadata": {},
   "outputs": [
    {
     "name": "stderr",
     "output_type": "stream",
     "text": [
      "Map: 100%|██████████| 5000/5000 [00:01<00:00, 3787.61 examples/s]\n"
     ]
    }
   ],
   "source": [
    "val_split = val_split.map(split_sentences)"
   ]
  },
  {
   "cell_type": "code",
   "execution_count": 34,
   "metadata": {},
   "outputs": [
    {
     "name": "stderr",
     "output_type": "stream",
     "text": [
      "Creating json from Arrow format:   0%|          | 0/5 [00:00<?, ?ba/s]"
     ]
    },
    {
     "name": "stderr",
     "output_type": "stream",
     "text": [
      "Creating json from Arrow format: 100%|██████████| 5/5 [00:00<00:00, 21.74ba/s]\n"
     ]
    },
    {
     "data": {
      "text/plain": [
       "4349775"
      ]
     },
     "execution_count": 34,
     "metadata": {},
     "output_type": "execute_result"
    }
   ],
   "source": [
    "test_split.to_json('coco_karpathy_test.json')"
   ]
  },
  {
   "cell_type": "code",
   "execution_count": 26,
   "metadata": {},
   "outputs": [],
   "source": [
    "import json\n",
    "\n",
    "# Initialize an empty list to store parsed JSON objects\n",
    "json_objects = []\n",
    "\n",
    "# Open the JSON file\n",
    "with open('coco_karpathy_train.json', 'r') as file:\n",
    "    # Read each line of the file\n",
    "    for line in file:\n",
    "        # Strip any leading/trailing whitespace and parse the line as JSON\n",
    "        json_object = json.loads(line.strip())\n",
    "        \n",
    "        # Append the parsed JSON object to the list\n",
    "        json_objects.append(json_object)\n",
    "\n",
    "# Now json_objects contains all the parsed JSON objects from the file\n",
    "# You can iterate over json_objects or access individual objects as needed\n",
    "#for obj in json_objects:\n",
    "#    print(obj)"
   ]
  },
  {
   "cell_type": "code",
   "execution_count": 32,
   "metadata": {},
   "outputs": [
    {
     "data": {
      "text/plain": [
       "{'filepath': 'train2014',\n",
       " 'sentids': [711957, 718398, 719373, 722253, 723561],\n",
       " 'filename': 'COCO_train2014_000000508955.jpg',\n",
       " 'imgid': 41738,\n",
       " 'split': 'train',\n",
       " 'sentences': ['A street light slightly leaning to the right.',\n",
       "  'A lamp post leans in front of a street.',\n",
       "  'a long pole with a light on top net to a hydrant',\n",
       "  'a hydrant besides a light pole near a brown house',\n",
       "  'A light pole leaning to the side beside a yellow fire hydrant'],\n",
       " 'cocoid': 508955,\n",
       " 'url': 'http://images.cocodataset.org/train2014/COCO_train2014_000000508955.jpg',\n",
       " 'sentence 1': 'A street light slightly leaning to the right.',\n",
       " 'sentence 2': 'A lamp post leans in front of a street.',\n",
       " 'sentence 3': 'a long pole with a light on top net to a hydrant',\n",
       " 'sentence 4': 'a hydrant besides a light pole near a brown house',\n",
       " 'sentence 5': 'A light pole leaning to the side beside a yellow fire hydrant'}"
      ]
     },
     "execution_count": 32,
     "metadata": {},
     "output_type": "execute_result"
    }
   ],
   "source": [
    "json_objects[1234]"
   ]
  },
  {
   "cell_type": "code",
   "execution_count": 22,
   "metadata": {},
   "outputs": [
    {
     "name": "stdout",
     "output_type": "stream",
     "text": [
      "{'filepath': 'train2014', 'sentids': [787980, 789366, 789888, 791316, 794853], 'filename': 'COCO_train2014_000000057870.jpg', 'imgid': 40504, 'split': 'train', 'sentences': ['A restaurant has modern wooden tables and chairs.', 'A long restaurant table with rattan rounded back chairs.', 'a long table with a plant on top of it surrounded with wooden chairs ', 'A long table with a flower arrangement in the middle for meetings', 'A table is adorned with wooden chairs with blue accents.'], 'cocoid': 57870, 'url': 'http://images.cocodataset.org/train2014/COCO_train2014_000000057870.jpg', 'sentence 1': 'A restaurant has modern wooden tables and chairs.', 'sentence 2': 'A long restaurant table with rattan rounded back chairs.', 'sentence 3': 'a long table with a plant on top of it surrounded with wooden chairs ', 'sentence 4': 'A long table with a flower arrangement in the middle for meetings', 'sentence 5': 'A table is adorned with wooden chairs with blue accents.'}\n"
     ]
    }
   ],
   "source": [
    "# Open the input JSON file\n",
    "with open('coco_karpathy_train.json', 'r') as input_file:\n",
    "    # Read the file line by line\n",
    "    for line in input_file:\n",
    "        # Parse each line as a JSON object\n",
    "        json_object = json.loads(line.strip())\n",
    "        print(json_object)\n",
    "        break\n",
    "        \n",
    "        # Update the concatenated JSON dictionary with the parsed object\n",
    "        concatenated_json.update(json_object)"
   ]
  }
 ],
 "metadata": {
  "kernelspec": {
   "display_name": "py3.8",
   "language": "python",
   "name": "python3"
  },
  "language_info": {
   "codemirror_mode": {
    "name": "ipython",
    "version": 3
   },
   "file_extension": ".py",
   "mimetype": "text/x-python",
   "name": "python",
   "nbconvert_exporter": "python",
   "pygments_lexer": "ipython3",
   "version": "3.8.5"
  }
 },
 "nbformat": 4,
 "nbformat_minor": 2
}
