{
 "cells": [
  {
   "cell_type": "code",
   "execution_count": 2,
   "metadata": {},
   "outputs": [
    {
     "name": "stdout",
     "output_type": "stream",
     "text": [
      "dict_keys(['linear_CIFAR10'])\n"
     ]
    }
   ],
   "source": [
    "fpath = \"/home/phisch/multimodal/test-1_data_dict.p\"\n",
    "\n",
    "import pickle\n",
    "with open(fpath, \"rb\") as f:\n",
    "    data_dict = pickle.load(f)\n",
    "print(data_dict.keys())"
   ]
  },
  {
   "cell_type": "code",
   "execution_count": 3,
   "metadata": {},
   "outputs": [
    {
     "name": "stdout",
     "output_type": "stream",
     "text": [
      "{'linear_CIFAR10': {'ConfusionMatrix': array([[678,  45,  74,  28,  10,   8,  20,  18,  85,  34],\n",
      "       [ 51, 743,   8,  18,   5,   8,  11,  14,  36, 106],\n",
      "       [ 76,  10, 481,  72, 117,  91,  91,  33,  17,  12],\n",
      "       [ 28,  16,  59, 498,  45, 210,  76,  41,  11,  16],\n",
      "       [ 27,   6,  75,  41, 601,  50,  65, 118,  15,   2],\n",
      "       [  7,  12,  67, 190,  47, 558,  36,  60,  13,  10],\n",
      "       [  9,   6,  56,  56,  48,  43, 760,  11,   7,   4],\n",
      "       [ 17,  12,  28,  41,  65,  71,  15, 727,   5,  19],\n",
      "       [ 77,  46,  19,  18,  10,   4,   4,   8, 772,  42],\n",
      "       [ 37,  88,   8,  16,   6,   9,   1,  13,  30, 792]]), 'Top1Accuracy': 0.6610000133514404, 'Top3Accuracy': 0.9049999713897705, 'Top5Accuracy': 0.9678999781608582}}\n"
     ]
    }
   ],
   "source": [
    "print(data_dict)"
   ]
  }
 ],
 "metadata": {
  "kernelspec": {
   "display_name": "py3.8",
   "language": "python",
   "name": "python3"
  },
  "language_info": {
   "codemirror_mode": {
    "name": "ipython",
    "version": 3
   },
   "file_extension": ".py",
   "mimetype": "text/x-python",
   "name": "python",
   "nbconvert_exporter": "python",
   "pygments_lexer": "ipython3",
   "version": "3.8.5"
  }
 },
 "nbformat": 4,
 "nbformat_minor": 2
}
