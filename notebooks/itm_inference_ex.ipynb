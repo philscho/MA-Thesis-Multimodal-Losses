{
 "cells": [
  {
   "cell_type": "code",
   "execution_count": 1,
   "metadata": {},
   "outputs": [],
   "source": [
    "import torch\n",
    "from torch import Tensor"
   ]
  },
  {
   "cell_type": "code",
   "execution_count": 8,
   "metadata": {},
   "outputs": [],
   "source": [
    "bs = 4\n",
    "dim = 3\n",
    "num_classes = 5"
   ]
  },
  {
   "cell_type": "code",
   "execution_count": 9,
   "metadata": {},
   "outputs": [
    {
     "name": "stdout",
     "output_type": "stream",
     "text": [
      "features:  tensor([[0, 3, 1],\n",
      "        [1, 1, 4],\n",
      "        [4, 1, 0],\n",
      "        [1, 0, 4]])\n",
      "classifier:  tensor([[9, 7, 8, 5, 7],\n",
      "        [9, 9, 7, 9, 6],\n",
      "        [5, 8, 5, 8, 8]])\n"
     ]
    }
   ],
   "source": [
    "features = torch.randint(0, 5, (bs, dim))\n",
    "print(\"features: \", features)\n",
    "classifier = torch.randint(5, 10, (dim, num_classes))\n",
    "print(\"classifier: \", classifier)"
   ]
  },
  {
   "cell_type": "code",
   "execution_count": 19,
   "metadata": {},
   "outputs": [
    {
     "data": {
      "text/plain": [
       "tensor([[9, 5, 8],\n",
       "        [9, 5, 5],\n",
       "        [7, 7, 5],\n",
       "        [8, 5, 6]])"
      ]
     },
     "execution_count": 19,
     "metadata": {},
     "output_type": "execute_result"
    }
   ],
   "source": [
    "classifier.T"
   ]
  },
  {
   "cell_type": "code",
   "execution_count": 10,
   "metadata": {},
   "outputs": [
    {
     "data": {
      "text/plain": [
       "tensor([[32, 35, 26, 35, 26],\n",
       "        [38, 48, 35, 46, 45],\n",
       "        [45, 37, 39, 29, 34],\n",
       "        [29, 39, 28, 37, 39]])"
      ]
     },
     "execution_count": 10,
     "metadata": {},
     "output_type": "execute_result"
    }
   ],
   "source": [
    "logits = features @ classifier\n",
    "logits"
   ]
  },
  {
   "cell_type": "code",
   "execution_count": 11,
   "metadata": {},
   "outputs": [
    {
     "name": "stdout",
     "output_type": "stream",
     "text": [
      "tensor([[35, 35],\n",
      "        [48, 46],\n",
      "        [45, 39],\n",
      "        [39, 39]])\n",
      "tensor([[1, 3],\n",
      "        [1, 3],\n",
      "        [0, 2],\n",
      "        [1, 4]])\n"
     ]
    }
   ],
   "source": [
    "val, ind = torch.topk(logits, 2, dim=-1)\n",
    "print(val)\n",
    "print(ind)"
   ]
  },
  {
   "cell_type": "code",
   "execution_count": 12,
   "metadata": {},
   "outputs": [
    {
     "name": "stdout",
     "output_type": "stream",
     "text": [
      "tensor([[9, 7, 8, 5, 7],\n",
      "        [9, 9, 7, 9, 6],\n",
      "        [5, 8, 5, 8, 8]])\n",
      "tensor([[1, 3],\n",
      "        [1, 3],\n",
      "        [0, 2],\n",
      "        [1, 4]])\n"
     ]
    }
   ],
   "source": [
    "print(classifier)\n",
    "print(ind)"
   ]
  },
  {
   "cell_type": "code",
   "execution_count": 25,
   "metadata": {},
   "outputs": [
    {
     "data": {
      "text/plain": [
       "tensor([1, 2])"
      ]
     },
     "execution_count": 25,
     "metadata": {},
     "output_type": "execute_result"
    }
   ],
   "source": [
    "ind[0, :]"
   ]
  },
  {
   "cell_type": "code",
   "execution_count": null,
   "metadata": {},
   "outputs": [
    {
     "name": "stdout",
     "output_type": "stream",
     "text": [
      "torch.Size([4, 2, 3])\n",
      "tensor([[[7, 9, 8],\n",
      "         [5, 9, 8]],\n",
      "\n",
      "        [[7, 9, 8],\n",
      "         [5, 9, 8]],\n",
      "\n",
      "        [[9, 9, 5],\n",
      "         [8, 7, 5]],\n",
      "\n",
      "        [[7, 9, 8],\n",
      "         [7, 6, 8]]])\n"
     ]
    }
   ],
   "source": [
    "topk_class_embeds = torch.stack([torch.index_select(classifier, dim=1, index=ind[i, :]).T for i in range(bs)])\n",
    "print(topk_class_embeds.shape) # bs x topk x dim\n",
    "print(topk_class_embeds)"
   ]
  },
  {
   "cell_type": "code",
   "execution_count": 14,
   "metadata": {},
   "outputs": [
    {
     "name": "stdout",
     "output_type": "stream",
     "text": [
      "tensor([[0, 3, 1],\n",
      "        [1, 1, 4],\n",
      "        [4, 1, 0],\n",
      "        [1, 0, 4]])\n",
      "torch.Size([4, 2, 3])\n",
      "tensor([[[0, 3, 1],\n",
      "         [0, 3, 1]],\n",
      "\n",
      "        [[1, 1, 4],\n",
      "         [1, 1, 4]],\n",
      "\n",
      "        [[4, 1, 0],\n",
      "         [4, 1, 0]],\n",
      "\n",
      "        [[1, 0, 4],\n",
      "         [1, 0, 4]]])\n"
     ]
    }
   ],
   "source": [
    "ff = features.unsqueeze(1).expand(-1, 2, -1)\n",
    "print(features)\n",
    "print(ff.shape)\n",
    "print(ff)"
   ]
  },
  {
   "cell_type": "code",
   "execution_count": 15,
   "metadata": {},
   "outputs": [
    {
     "name": "stdout",
     "output_type": "stream",
     "text": [
      "torch.Size([4, 2, 6])\n",
      "tensor([[[0, 3, 1, 7, 9, 8],\n",
      "         [0, 3, 1, 5, 9, 8]],\n",
      "\n",
      "        [[1, 1, 4, 7, 9, 8],\n",
      "         [1, 1, 4, 5, 9, 8]],\n",
      "\n",
      "        [[4, 1, 0, 9, 9, 5],\n",
      "         [4, 1, 0, 8, 7, 5]],\n",
      "\n",
      "        [[1, 0, 4, 7, 9, 8],\n",
      "         [1, 0, 4, 7, 6, 8]]])\n"
     ]
    }
   ],
   "source": [
    "y = torch.cat([ff, topk_class_embeds], dim=-1)\n",
    "print(y.shape)\n",
    "print(y)"
   ]
  },
  {
   "cell_type": "code",
   "execution_count": 56,
   "metadata": {},
   "outputs": [
    {
     "data": {
      "text/plain": [
       "torch.float32"
      ]
     },
     "execution_count": 56,
     "metadata": {},
     "output_type": "execute_result"
    }
   ],
   "source": [
    "yy = y.view(bs * 2, -1)\n",
    "yy = yy.to(torch.float32)\n",
    "yy.dtype"
   ]
  },
  {
   "cell_type": "code",
   "execution_count": 60,
   "metadata": {},
   "outputs": [
    {
     "data": {
      "text/plain": [
       "torch.Size([4, 2, 6])"
      ]
     },
     "execution_count": 60,
     "metadata": {},
     "output_type": "execute_result"
    }
   ],
   "source": [
    "y = y.to(torch.float32)\n",
    "y.dtype\n",
    "y.shape"
   ]
  },
  {
   "cell_type": "code",
   "execution_count": 17,
   "metadata": {},
   "outputs": [
    {
     "name": "stdout",
     "output_type": "stream",
     "text": [
      "Sequential(\n",
      "  (0): Linear(in_features=6, out_features=3, bias=True)\n",
      "  (1): ReLU()\n",
      "  (2): Linear(in_features=3, out_features=2, bias=True)\n",
      ")\n"
     ]
    }
   ],
   "source": [
    "from torch import nn\n",
    "itm_head = nn.Sequential(\n",
    "                nn.Linear(6, 3),\n",
    "                nn.ReLU(),\n",
    "                nn.Linear(3, 2),\n",
    "            )\n",
    "print(itm_head)"
   ]
  },
  {
   "cell_type": "code",
   "execution_count": null,
   "metadata": {},
   "outputs": [
    {
     "ename": "AttributeError",
     "evalue": "'Sequential' object has no attribute 'dtype'",
     "output_type": "error",
     "traceback": [
      "\u001b[0;31m---------------------------------------------------------------------------\u001b[0m",
      "\u001b[0;31mAttributeError\u001b[0m                            Traceback (most recent call last)",
      "Cell \u001b[0;32mIn[31], line 1\u001b[0m\n\u001b[0;32m----> 1\u001b[0m \u001b[43mitm_head\u001b[49m\u001b[38;5;241;43m.\u001b[39;49m\u001b[43mdtype\u001b[49m\n",
      "File \u001b[0;32m~/venv_py3.8/py3.8/lib/python3.8/site-packages/torch/nn/modules/module.py:1614\u001b[0m, in \u001b[0;36mModule.__getattr__\u001b[0;34m(self, name)\u001b[0m\n\u001b[1;32m   1612\u001b[0m     \u001b[38;5;28;01mif\u001b[39;00m name \u001b[38;5;129;01min\u001b[39;00m modules:\n\u001b[1;32m   1613\u001b[0m         \u001b[38;5;28;01mreturn\u001b[39;00m modules[name]\n\u001b[0;32m-> 1614\u001b[0m \u001b[38;5;28;01mraise\u001b[39;00m \u001b[38;5;167;01mAttributeError\u001b[39;00m(\u001b[38;5;124m\"\u001b[39m\u001b[38;5;124m'\u001b[39m\u001b[38;5;132;01m{}\u001b[39;00m\u001b[38;5;124m'\u001b[39m\u001b[38;5;124m object has no attribute \u001b[39m\u001b[38;5;124m'\u001b[39m\u001b[38;5;132;01m{}\u001b[39;00m\u001b[38;5;124m'\u001b[39m\u001b[38;5;124m\"\u001b[39m\u001b[38;5;241m.\u001b[39mformat(\n\u001b[1;32m   1615\u001b[0m     \u001b[38;5;28mtype\u001b[39m(\u001b[38;5;28mself\u001b[39m)\u001b[38;5;241m.\u001b[39m\u001b[38;5;18m__name__\u001b[39m, name))\n",
      "\u001b[0;31mAttributeError\u001b[0m: 'Sequential' object has no attribute 'dtype'"
     ]
    }
   ],
   "source": [
    "itm_head"
   ]
  },
  {
   "cell_type": "code",
   "execution_count": 19,
   "metadata": {},
   "outputs": [
    {
     "name": "stdout",
     "output_type": "stream",
     "text": [
      "torch.Size([4, 2, 2])\n",
      "tensor([[[-1.8628, -1.6898],\n",
      "         [-1.8653, -1.6738]],\n",
      "\n",
      "        [[-2.2409, -2.1965],\n",
      "         [-2.2435, -2.1804]],\n",
      "\n",
      "        [[-1.3921, -1.4457],\n",
      "         [-1.4949, -1.4215]],\n",
      "\n",
      "        [[-2.1500, -2.3126],\n",
      "         [-2.1877, -1.9847]]], grad_fn=<ViewBackward0>)\n"
     ]
    }
   ],
   "source": [
    "out = itm_head(y.to(torch.float32))\n",
    "print(out.shape)\n",
    "print(out)"
   ]
  },
  {
   "cell_type": "code",
   "execution_count": 21,
   "metadata": {},
   "outputs": [
    {
     "name": "stdout",
     "output_type": "stream",
     "text": [
      "torch.Size([4, 2, 2])\n",
      "tensor([[-1.8628, -1.8653],\n",
      "        [-2.2409, -2.2435],\n",
      "        [-1.3921, -1.4949],\n",
      "        [-2.1500, -2.1877]], grad_fn=<SelectBackward0>)\n"
     ]
    }
   ],
   "source": [
    "print(out.shape)\n",
    "print(out[:,:,0])"
   ]
  },
  {
   "cell_type": "code",
   "execution_count": 22,
   "metadata": {},
   "outputs": [
    {
     "name": "stdout",
     "output_type": "stream",
     "text": [
      "torch.Size([4])\n",
      "tensor([0, 0, 0, 0])\n"
     ]
    }
   ],
   "source": [
    "max = torch.argmax(out[:, :, 0], dim=-1)\n",
    "print(max.shape)\n",
    "print(max)"
   ]
  },
  {
   "cell_type": "code",
   "execution_count": 24,
   "metadata": {},
   "outputs": [
    {
     "name": "stdout",
     "output_type": "stream",
     "text": [
      "torch.Size([4, 2])\n",
      "tensor([[1, 3],\n",
      "        [1, 3],\n",
      "        [0, 2],\n",
      "        [1, 4]])\n"
     ]
    }
   ],
   "source": [
    "print(ind.shape)\n",
    "print(ind)"
   ]
  },
  {
   "cell_type": "code",
   "execution_count": 29,
   "metadata": {},
   "outputs": [
    {
     "data": {
      "text/plain": [
       "tensor([[0],\n",
       "        [0],\n",
       "        [0],\n",
       "        [0]])"
      ]
     },
     "execution_count": 29,
     "metadata": {},
     "output_type": "execute_result"
    }
   ],
   "source": [
    "max.unsqueeze(-1)"
   ]
  },
  {
   "cell_type": "code",
   "execution_count": 28,
   "metadata": {},
   "outputs": [
    {
     "name": "stdout",
     "output_type": "stream",
     "text": [
      "torch.Size([4, 1])\n",
      "tensor([[1],\n",
      "        [1],\n",
      "        [0],\n",
      "        [1]])\n"
     ]
    }
   ],
   "source": [
    "#class_indices = torch.index_select(ind, dim=1, index=max)\n",
    "class_indices = torch.gather(ind, dim=1, index=max.unsqueeze(-1))\n",
    "print(class_indices.shape)\n",
    "print(class_indices)"
   ]
  },
  {
   "cell_type": "code",
   "execution_count": null,
   "metadata": {},
   "outputs": [],
   "source": []
  },
  {
   "cell_type": "code",
   "execution_count": null,
   "metadata": {},
   "outputs": [],
   "source": [
    "torch.argwhere()"
   ]
  },
  {
   "cell_type": "code",
   "execution_count": 18,
   "metadata": {},
   "outputs": [
    {
     "data": {
      "text/plain": [
       "tensor([[[9, 7, 9, 9],\n",
       "         [5, 7, 5, 5],\n",
       "         [8, 5, 8, 8]],\n",
       "\n",
       "        [[7, 9, 7, 8],\n",
       "         [7, 5, 7, 5],\n",
       "         [5, 5, 5, 6]]])"
      ]
     },
     "execution_count": 18,
     "metadata": {},
     "output_type": "execute_result"
    }
   ],
   "source": [
    "topk_class_features = classifier[:, ind].permute(2, 0, 1)\n",
    "topk_class_features"
   ]
  },
  {
   "cell_type": "code",
   "execution_count": 16,
   "metadata": {},
   "outputs": [
    {
     "name": "stdout",
     "output_type": "stream",
     "text": [
      "tensor([[[9, 7]],\n",
      "\n",
      "        [[7, 9]],\n",
      "\n",
      "        [[9, 7]],\n",
      "\n",
      "        [[9, 8]]])\n"
     ]
    }
   ],
   "source": [
    "classifier_expanded = classifier.unsqueeze(0).expand(ind.shape[0], -1, -1)\n",
    "\n",
    "# Gather values based on ind\n",
    "selected = torch.gather(classifier_expanded, dim=2, index=ind.unsqueeze(1))\n",
    "\n",
    "print(selected)"
   ]
  },
  {
   "cell_type": "code",
   "execution_count": 21,
   "metadata": {},
   "outputs": [
    {
     "data": {
      "text/plain": [
       "tensor([[1, 2],\n",
       "        [3, 4]])"
      ]
     },
     "execution_count": 21,
     "metadata": {},
     "output_type": "execute_result"
    }
   ],
   "source": [
    "t = torch.tensor([[1, 2], [3, 4]])\n",
    "t"
   ]
  },
  {
   "cell_type": "code",
   "execution_count": 23,
   "metadata": {},
   "outputs": [
    {
     "data": {
      "text/plain": [
       "tensor([[0, 0],\n",
       "        [1, 0]])"
      ]
     },
     "execution_count": 23,
     "metadata": {},
     "output_type": "execute_result"
    }
   ],
   "source": [
    "b = torch.tensor([[0, 0], [1, 0]])\n",
    "b"
   ]
  },
  {
   "cell_type": "code",
   "execution_count": 24,
   "metadata": {},
   "outputs": [
    {
     "data": {
      "text/plain": [
       "tensor([[1, 1],\n",
       "        [4, 3]])"
      ]
     },
     "execution_count": 24,
     "metadata": {},
     "output_type": "execute_result"
    }
   ],
   "source": [
    "torch.gather(t, 1, b)"
   ]
  },
  {
   "cell_type": "code",
   "execution_count": 1,
   "metadata": {},
   "outputs": [],
   "source": [
    "import torch"
   ]
  },
  {
   "cell_type": "code",
   "execution_count": 4,
   "metadata": {},
   "outputs": [
    {
     "name": "stdout",
     "output_type": "stream",
     "text": [
      "tensor([[1, 4, 3, 2],\n",
      "        [0, 2, 1, 3]])\n",
      "tensor([[5, 7, 9, 9, 9, 9, 9, 9, 5, 5],\n",
      "        [8, 8, 8, 5, 6, 9, 7, 7, 7, 7],\n",
      "        [5, 5, 9, 9, 6, 6, 7, 7, 6, 8],\n",
      "        [6, 5, 5, 8, 7, 9, 6, 9, 5, 5]])\n"
     ]
    }
   ],
   "source": [
    "feature = torch.randint(0, 5, (2,4))\n",
    "print(feature)\n",
    "classifier = torch.randint(5, 10, (4, 10))\n",
    "print(classifier)"
   ]
  },
  {
   "cell_type": "code",
   "execution_count": 5,
   "metadata": {},
   "outputs": [
    {
     "name": "stdout",
     "output_type": "stream",
     "text": [
      "tensor([[64, 64, 78, 72, 65, 81, 70, 76, 61, 67],\n",
      "        [39, 36, 40, 43, 39, 51, 39, 48, 35, 37]])\n"
     ]
    }
   ],
   "source": [
    "logits = feature @ classifier\n",
    "print(logits)"
   ]
  },
  {
   "cell_type": "code",
   "execution_count": 7,
   "metadata": {},
   "outputs": [
    {
     "name": "stdout",
     "output_type": "stream",
     "text": [
      "tensor([[81, 78, 76, 72],\n",
      "        [51, 48, 43, 40]])\n",
      "tensor([[5, 2, 7, 3],\n",
      "        [5, 7, 3, 2]])\n"
     ]
    }
   ],
   "source": [
    "val, ind = torch.topk(logits, 4, dim=1)\n",
    "print(val)\n",
    "print(ind)"
   ]
  },
  {
   "cell_type": "code",
   "execution_count": 6,
   "metadata": {},
   "outputs": [
    {
     "name": "stdout",
     "output_type": "stream",
     "text": [
      "tensor([[7, 8, 9, 8],\n",
      "        [8, 8, 7, 5],\n",
      "        [7, 5, 5, 9],\n",
      "        [6, 7, 7, 8]])\n"
     ]
    }
   ],
   "source": [
    "s = torch.index_select(classifier, dim=1, index=ind)\n",
    "print(s)"
   ]
  },
  {
   "cell_type": "code",
   "execution_count": 7,
   "metadata": {},
   "outputs": [
    {
     "name": "stdout",
     "output_type": "stream",
     "text": [
      "tensor([0, 3, 1, 0])\n"
     ]
    }
   ],
   "source": [
    "feature.expand(4, -1)\n",
    "print(feature)"
   ]
  },
  {
   "cell_type": "code",
   "execution_count": 8,
   "metadata": {},
   "outputs": [
    {
     "name": "stdout",
     "output_type": "stream",
     "text": [
      "tensor([[0, 3, 1, 0, 7, 8, 7, 6],\n",
      "        [0, 3, 1, 0, 8, 8, 5, 7],\n",
      "        [0, 3, 1, 0, 9, 7, 5, 7],\n",
      "        [0, 3, 1, 0, 8, 5, 9, 8]])\n"
     ]
    }
   ],
   "source": [
    "x = torch.concatenate([feature.expand(4, -1), s.T], dim=-1)\n",
    "print(x)"
   ]
  },
  {
   "cell_type": "code",
   "execution_count": 10,
   "metadata": {},
   "outputs": [],
   "source": [
    "from torch import nn\n",
    "itm_head = nn.Sequential(\n",
    "                nn.Linear(8, 4),\n",
    "                nn.ReLU(),\n",
    "                nn.Linear(4, 2),\n",
    "            )"
   ]
  },
  {
   "cell_type": "code",
   "execution_count": 11,
   "metadata": {},
   "outputs": [
    {
     "name": "stdout",
     "output_type": "stream",
     "text": [
      "tensor([[ 0.0516,  2.0922],\n",
      "        [-1.2897,  0.3224],\n",
      "        [-2.6128,  1.4645],\n",
      "        [-1.8627,  3.6383]], grad_fn=<AddBackward0>)\n"
     ]
    }
   ],
   "source": [
    "y = itm_head(x.to(torch.float32))\n",
    "y = y + torch.randn_like(y)\n",
    "print(y)"
   ]
  },
  {
   "cell_type": "code",
   "execution_count": 12,
   "metadata": {},
   "outputs": [
    {
     "name": "stdout",
     "output_type": "stream",
     "text": [
      "tensor(0)\n"
     ]
    }
   ],
   "source": [
    "max = torch.argmax(y[:, 0])\n",
    "print(max)"
   ]
  },
  {
   "cell_type": "code",
   "execution_count": 13,
   "metadata": {},
   "outputs": [
    {
     "name": "stdout",
     "output_type": "stream",
     "text": [
      "tensor(3)\n"
     ]
    }
   ],
   "source": [
    "max_ind = ind[max]\n",
    "print(max_ind)"
   ]
  },
  {
   "cell_type": "code",
   "execution_count": null,
   "metadata": {},
   "outputs": [],
   "source": [
    "def itm_eval(itm_head, logits, topk, features, classifier):\n",
    "    val, ind = torch.topk(logits, topk, dim=1)\n",
    "    topk_class_embeds = torch.stack([torch.index_select(classifier, dim=1, index=ind[i, :]).T for i in range(bs)])\n",
    "    "
   ]
  }
 ],
 "metadata": {
  "kernelspec": {
   "display_name": "py3.8",
   "language": "python",
   "name": "python3"
  },
  "language_info": {
   "codemirror_mode": {
    "name": "ipython",
    "version": 3
   },
   "file_extension": ".py",
   "mimetype": "text/x-python",
   "name": "python",
   "nbconvert_exporter": "python",
   "pygments_lexer": "ipython3",
   "version": "3.8.5"
  }
 },
 "nbformat": 4,
 "nbformat_minor": 2
}
