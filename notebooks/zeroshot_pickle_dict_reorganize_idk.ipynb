{
 "cells": [
  {
   "cell_type": "code",
   "execution_count": 7,
   "metadata": {},
   "outputs": [],
   "source": [
    "import pickle\n",
    "import os\n",
    "from pathlib import Path"
   ]
  },
  {
   "cell_type": "code",
   "execution_count": 8,
   "metadata": {},
   "outputs": [],
   "source": [
    "PROJ_ROOT = Path(\"/home/phisch/multimodal\")\n",
    "DATA_ROOT = PROJ_ROOT / \"test_results\"\n",
    "all_data = {\"0.2_dataset\": {}, \"0.4_dataset\": {}, \"0.6_dataset\": {}, \"0.8_dataset\": {}, \"full_dataset\": {}, \"full_dataset_im384\": {}}\n",
    "\n",
    "for dataset_folder in os.listdir(DATA_ROOT):\n",
    "    dataset_folder = DATA_ROOT / dataset_folder\n",
    "    for file_name in os.listdir(dataset_folder):\n",
    "        if \"-zeroshot-results\" in file_name:\n",
    "            model_id = file_name.split(\"-\")[0]\n",
    "            with open(dataset_folder / file_name, \"rb\") as f:\n",
    "                all_data[dataset_folder.name][model_id] = pickle.load(f)"
   ]
  },
  {
   "cell_type": "code",
   "execution_count": null,
   "metadata": {},
   "outputs": [
    {
     "data": {
      "text/plain": [
       "dict_keys(['zeroshot_Caltech101', 'zeroshot_Caltech256', 'zeroshot_CIFAR10', 'zeroshot_CIFAR100', 'zeroshot_DTD', 'zeroshot_FGVCAircraft', 'zeroshot_Food101', 'zeroshot_OxfordIIITPet', 'zeroshot_StanfordCars', 'zeroshot_STL10', '__config__'])"
      ]
     },
     "execution_count": 11,
     "metadata": {},
     "output_type": "execute_result"
    }
   ],
   "source": []
  },
  {
   "cell_type": "code",
   "execution_count": 26,
   "metadata": {},
   "outputs": [
    {
     "name": "stdout",
     "output_type": "stream",
     "text": [
      "zeroshot_Caltech101 0.42630743980407715\n",
      "zeroshot_Caltech256 0.3426996171474457\n",
      "zeroshot_CIFAR10 0.4308199882507324\n",
      "zeroshot_CIFAR100 0.1580599993467331\n",
      "zeroshot_DTD 0.10797872394323349\n",
      "zeroshot_FGVCAircraft 0.009598080068826675\n",
      "zeroshot_Food101 0.10368316620588303\n",
      "zeroshot_OxfordIIITPet 0.08016304671764374\n",
      "zeroshot_StanfordCars 0.008472494781017303\n",
      "zeroshot_STL10 0.7572000026702881\n"
     ]
    }
   ],
   "source": [
    "fpath = \"/home/phisch/multimodal/test_results/full_dataset/9v1wy0vb-zeroshot-results.pkl\"\n",
    "with open(fpath, \"rb\") as f:\n",
    "    data = pickle.load(f)\n",
    "for dataset in data.keys():\n",
    "    if dataset == \"__config__\": continue\n",
    "    print(dataset, data[dataset][\"1_template\"][\"Top1Accuracy\"])"
   ]
  },
  {
   "cell_type": "code",
   "execution_count": 27,
   "metadata": {},
   "outputs": [
    {
     "name": "stdout",
     "output_type": "stream",
     "text": [
      "zeroshot_Caltech101 0.42630743980407715\n",
      "zeroshot_Caltech256 0.3426996171474457\n",
      "zeroshot_CIFAR10 0.4308199882507324\n",
      "zeroshot_CIFAR100 0.1580599993467331\n",
      "zeroshot_DTD 0.10797872394323349\n",
      "zeroshot_FGVCAircraft 0.009598080068826675\n",
      "zeroshot_Food101 0.10368316620588303\n",
      "zeroshot_OxfordIIITPet 0.08016304671764374\n",
      "zeroshot_StanfordCars 0.008472494781017303\n",
      "zeroshot_STL10 0.7572000026702881\n"
     ]
    }
   ],
   "source": [
    "fpath = \"/home/phisch/multimodal/test_results/full_dataset/oc0g8fql-zeroshot-results.pkl\"\n",
    "with open(fpath, \"rb\") as f:\n",
    "    data = pickle.load(f)\n",
    "for dataset in data.keys():\n",
    "    if dataset == \"__config__\": continue\n",
    "    print(dataset, data[dataset][\"1_template\"][\"Top1Accuracy\"])"
   ]
  },
  {
   "cell_type": "code",
   "execution_count": 30,
   "metadata": {},
   "outputs": [
    {
     "data": {
      "text/plain": [
       "{'zeroshot_Caltech101': {'ConfusionMatrix': array([[0, 0, 0, ..., 0, 0, 0],\n",
       "         [0, 0, 0, ..., 0, 0, 0],\n",
       "         [0, 0, 0, ..., 0, 0, 0],\n",
       "         ...,\n",
       "         [0, 0, 0, ..., 0, 0, 0],\n",
       "         [0, 0, 0, ..., 0, 0, 0],\n",
       "         [0, 0, 0, ..., 0, 0, 0]]),\n",
       "  'Top1Accuracy': 0.012390145100653172,\n",
       "  'Top3Accuracy': 0.04178072139620781,\n",
       "  'Top5Accuracy': 0.060654085129499435},\n",
       " 'zeroshot_Caltech256': {'ConfusionMatrix': array([[  0,   0,   0, ...,   0,   1,  34],\n",
       "         [  0,   0,   0, ...,   0,   1,  56],\n",
       "         [  0,   0,   0, ...,   0,   1,  79],\n",
       "         ...,\n",
       "         [  0,   0,   0, ...,   0,   0,  59],\n",
       "         [  0,   0,   0, ...,   0,   0,  25],\n",
       "         [  0,   0,   0, ...,   0,   6, 396]]),\n",
       "  'Top1Accuracy': 0.017480090260505676,\n",
       "  'Top3Accuracy': 0.023687971755862236,\n",
       "  'Top5Accuracy': 0.03136614337563515},\n",
       " 'zeroshot_CIFAR10': {'ConfusionMatrix': array([[ 374,    1,  224,    6,  868,   24,    5,  293, 3074,  131],\n",
       "         [ 278,    2,   81,    1,  124,   24,    4,  274, 4178,   34],\n",
       "         [ 232,    0,  133,    5,  364,   16,    3,  425, 3715,  107],\n",
       "         [ 257,    0,  287,    7,  583,    7,   13,  723, 2933,  190],\n",
       "         [ 110,    0,  113,    1,  124,    0,    0,  234, 4387,   31],\n",
       "         [ 262,    0,  259,    5,  529,    8,   11,  662, 3101,  163],\n",
       "         [ 178,    0,   97,    0,  176,    6,    5,  146, 4381,   11],\n",
       "         [ 432,    2,  140,    1,  145,    9,    8,  243, 3969,   51],\n",
       "         [ 232,    8,  159,    0,  325,   63,    0,  245, 3809,  159],\n",
       "         [ 190,    1,   60,    0,   51,    8,    2,   98, 4568,   22]]),\n",
       "  'Top1Accuracy': 0.09453999996185303,\n",
       "  'Top3Accuracy': 0.28233999013900757,\n",
       "  'Top5Accuracy': 0.49601998925209045},\n",
       " 'zeroshot_CIFAR100': {'ConfusionMatrix': array([[ 0,  0,  0, ...,  1,  0,  8],\n",
       "         [ 0,  0,  0, ...,  4,  0,  1],\n",
       "         [ 0,  0,  0, ..., 16,  0,  1],\n",
       "         ...,\n",
       "         [ 0,  0,  0, ...,  9,  1,  0],\n",
       "         [ 0,  0,  0, ..., 10,  3,  3],\n",
       "         [ 0,  0,  0, ..., 11,  1,  9]]),\n",
       "  'Top1Accuracy': 0.009999999776482582,\n",
       "  'Top3Accuracy': 0.028599999845027924,\n",
       "  'Top5Accuracy': 0.0516199991106987},\n",
       " 'zeroshot_DTD': {'ConfusionMatrix': array([[ 0,  0,  0, ...,  0,  3,  0],\n",
       "         [ 0,  0,  0, ...,  0,  1,  0],\n",
       "         [ 0,  0,  0, ...,  0,  4,  0],\n",
       "         ...,\n",
       "         [ 0,  0,  0, ...,  0,  4,  0],\n",
       "         [ 0,  0,  0, ...,  0, 13,  0],\n",
       "         [ 0,  0,  0, ...,  0,  9,  0]]),\n",
       "  'Top1Accuracy': 0.020744681358337402,\n",
       "  'Top3Accuracy': 0.06170212849974632,\n",
       "  'Top5Accuracy': 0.10478723049163818},\n",
       " 'zeroshot_FGVCAircraft': {'ConfusionMatrix': array([[3, 0, 1, ..., 0, 0, 3],\n",
       "         [2, 0, 0, ..., 0, 0, 2],\n",
       "         [2, 0, 1, ..., 0, 0, 3],\n",
       "         ...,\n",
       "         [2, 0, 1, ..., 0, 0, 1],\n",
       "         [1, 0, 1, ..., 0, 0, 4],\n",
       "         [2, 0, 0, ..., 0, 0, 1]]),\n",
       "  'Top1Accuracy': 0.012897420674562454,\n",
       "  'Top3Accuracy': 0.035692863166332245,\n",
       "  'Top5Accuracy': 0.058188363909721375},\n",
       " 'zeroshot_Food101': {'ConfusionMatrix': array([[ 0,  0, 15, ...,  0,  5,  0],\n",
       "         [ 0,  0,  5, ...,  0,  5,  0],\n",
       "         [ 0,  0, 22, ...,  0,  6,  0],\n",
       "         ...,\n",
       "         [ 0,  0,  8, ...,  0,  7,  0],\n",
       "         [ 0,  0,  4, ...,  0,  6,  0],\n",
       "         [ 0,  0, 13, ...,  0, 14,  0]]),\n",
       "  'Top1Accuracy': 0.010468646883964539,\n",
       "  'Top3Accuracy': 0.032660067081451416,\n",
       "  'Top5Accuracy': 0.053544554859399796},\n",
       " 'zeroshot_OxfordIIITPet': {'ConfusionMatrix': array([[ 0,  0,  0, ...,  8,  4,  0],\n",
       "         [ 0,  0,  0, ...,  6,  8,  0],\n",
       "         [ 0,  0,  0, ..., 15, 10,  0],\n",
       "         ...,\n",
       "         [ 0,  0,  0, ...,  6,  9,  0],\n",
       "         [ 0,  0,  0, ..., 18,  7,  1],\n",
       "         [ 0,  0,  0, ..., 33,  5,  1]]),\n",
       "  'Top1Accuracy': 0.036684781312942505,\n",
       "  'Top3Accuracy': 0.08940217643976212,\n",
       "  'Top5Accuracy': 0.14782609045505524},\n",
       " 'zeroshot_StanfordCars': {'ConfusionMatrix': array([[ 3,  0,  0, ...,  0,  0,  0],\n",
       "         [ 5,  0,  0, ...,  0,  0,  0],\n",
       "         [10,  0,  0, ...,  0,  0,  0],\n",
       "         ...,\n",
       "         [ 7,  0,  0, ...,  0,  0,  0],\n",
       "         [ 9,  0,  0, ...,  0,  0,  0],\n",
       "         [ 2,  0,  0, ...,  0,  0,  0]]),\n",
       "  'Top1Accuracy': 0.006999017670750618,\n",
       "  'Top3Accuracy': 0.018050098791718483,\n",
       "  'Top5Accuracy': 0.028118859976530075},\n",
       " 'zeroshot_STL10': {'ConfusionMatrix': array([[ 64,   4,   2,   4, 109,   3,  12,   0, 286,  16],\n",
       "         [ 54,  13,  12,   6,  96,   7,  50,  10, 232,  20],\n",
       "         [100,   1,   5,   1,  43,   6,  35,   4, 301,   4],\n",
       "         [ 41,  20,  19,   2, 136,  13,  28,   8, 216,  17],\n",
       "         [ 49,  26,  12,   0,  63,   2,  52,   7, 285,   4],\n",
       "         [ 65,  21,  14,   2, 146,   5,  39,   6, 170,  32],\n",
       "         [139,  19,  11,   2,  35,   8,  23,   3, 249,  11],\n",
       "         [ 37,  32,  18,   2,  89,   6,  39,   4, 242,  31],\n",
       "         [ 31,   0,   5,   0,  62,   8,  12,   1, 358,  23],\n",
       "         [ 51,   0,   8,   0,  22,   1,   2,   2, 405,   9]]),\n",
       "  'Top1Accuracy': 0.10920000076293945,\n",
       "  'Top3Accuracy': 0.3075999915599823,\n",
       "  'Top5Accuracy': 0.506600022315979},\n",
       " '__config__': {'model': {'model': {'image_encoder_name': 'google/vit-base-patch16-224', 'text_encoder_name': 'google-bert/bert-base-uncased', 'tokenizer': {'use_fast': False}}}, 'data': {'datasets': ['Caltech101', 'Caltech256', 'CIFAR10', 'CIFAR100', 'DTD', 'FGVCAircraft', 'Food101', 'OxfordIIITPet', 'StanfordCars', 'STL10'], 'dataloader': {'test': {'batch_size': 128, 'shuffle': False, 'num_workers': 8, 'pin_memory': True}, 'coco_val': {'batch_size': 128, 'shuffle': False}}, 'root': '${paths.data_dir}', 'use_subset_probe': {'value': False, 'subset_fraction': 0.1}, 'dataset': {'val': ['coco_val_dummy'], 'transforms': {'enabled': True, 'RandAugment': {'num_ops': 3, 'magnitude': 8}}, 'max_seq_length': 72, 'coco': {'root': '/home/data/COCOcaptions/', 'split_train': '/home/phisch/multimodal/my_datasets/coco_karpathy_train.json', 'split_val': '${paths.root_dir}src/data/datasets/coco_karpathy_val.json', 'split_test': '/home/phisch/multimodal/my_datasets/coco_karpathy_test.json'}, 'vg': {'data_dir': '/pfss/mlde/workspaces/mlde_wsp_PI_Roig/shared/datasets/VG_Bhavin/VG'}, 'cc3m': {'data_dir': '/pfss/mlde/workspaces/mlde_wsp_PI_Roig/shared/datasets/CC3m/h5'}, 'cifar10': {'root': '/home/phisch/data/cifar-10-batches-py', 'download': False}, 'caltech101': {'root': '/pfss/mlde/workspaces/mlde_wsp_PI_Roig/shared/datasets/cifar10', 'download': False}, 'use_subset': {'value': True, 'subset_fraction': 0.2}, 'use_subset_probe': {'value': False, 'subset_fraction': 0.1}}}, 'lightning': {'trainer': {'strategy': 'auto', 'fast_dev_run': False, 'log_every_n_steps': 1, 'max_epochs': 1, 'devices': [3], 'num_nodes': 1, 'accelerator': 'gpu', 'deterministic': 'warn', 'precision': '16-mixed', 'gradient_clip_algorithm': 'norm', 'gradient_clip_val': 1.0}, 'seed': 69}, 'callbacks': {'zeroshot': {'callback': {'batch_size': '${data.dataloader.test.batch_size}', 'device': 'cuda', 'top_k': [1, 3, 5], 'top_k_preds': 20, 'average': 'micro', 'confusion_matrix': True, 'multi_label': False, 'verbose': True, 'templates': ['a photo of a {}.']}, 'use_itm_head': False}}, 'paths': {'root_dir': '${oc.env:PROJECT_ROOT}', 'data_dir': '/home/data/', 'log_dir': '${paths.root_dir}/logs/', 'work_dir': '${hydra:runtime.cwd}', 'ckpts_dir': '/data/bhavin/ckpts_old/'}, 'logger': {'wandb': {'entity': 'arena-multimodal-lossfns', 'project': 'multimodal', 'name': '', 'tags': [], 'offline': True, 'group': '', 'dir': '${paths.root_dir}/wandb/'}}, 'models': ['zathvtrx', '9v1wy0vb'], 'result_filename': 'zero_shot_with_1_template'}}"
      ]
     },
     "execution_count": 30,
     "metadata": {},
     "output_type": "execute_result"
    }
   ],
   "source": [
    "fpath = \"/home/phisch/multimodal/test_results/zero_shot/full_dataset/1_template/9v1wy0vb_zero_shot_with_1_template_data_dict.p\"\n",
    "with open(fpath, \"rb\") as f:\n",
    "    data = pickle.load(f)\n",
    "data"
   ]
  },
  {
   "cell_type": "code",
   "execution_count": 32,
   "metadata": {},
   "outputs": [
    {
     "data": {
      "text/plain": [
       "{'zeroshot_Caltech101': {'ConfusionMatrix': array([[201,   0,   0, ...,   0,   0,   1],\n",
       "         [302,   0,   0, ...,   0,   0,   0],\n",
       "         [  0,   0, 109, ...,   0,   0,   0],\n",
       "         ...,\n",
       "         [  0,   0,   0, ...,   7,   0,   0],\n",
       "         [  0,   0,   0, ...,   0,   1,   1],\n",
       "         [  1,   0,   0, ...,   0,   1,   0]]),\n",
       "  'Top1Accuracy': 0.42630743980407715,\n",
       "  'Top3Accuracy': 0.6274312138557434,\n",
       "  'Top5Accuracy': 0.6913989186286926},\n",
       " 'zeroshot_Caltech256': {'ConfusionMatrix': array([[ 0,  0,  0, ...,  0,  0,  0],\n",
       "         [ 0, 66,  0, ...,  0,  0,  0],\n",
       "         [ 0,  0, 85, ...,  0,  0,  0],\n",
       "         ...,\n",
       "         [ 0,  0,  1, ...,  4,  0,  0],\n",
       "         [ 0,  0,  0, ...,  0, 20,  0],\n",
       "         [ 3,  9,  0, ...,  1,  0,  1]]),\n",
       "  'Top1Accuracy': 0.3426996171474457,\n",
       "  'Top3Accuracy': 0.4864611029624939,\n",
       "  'Top5Accuracy': 0.5484991073608398},\n",
       " 'zeroshot_CIFAR10': {'ConfusionMatrix': array([[3116,   90, 1216,  110,    0,   13,  203,  185,   50,   17],\n",
       "         [1568, 2225,  130,   88,    0,   14,  138,   98,   35,  704],\n",
       "         [ 252,   50, 3131,  285,    3,  304,  232,  733,    3,    7],\n",
       "         [ 247,   38,  589, 2277,    2,  889,  131,  807,    7,   13],\n",
       "         [ 246,   51, 1360,  310,  204,  327,  263, 2212,    9,   18],\n",
       "         [ 190,   27,  370,  636,    2, 2770,   82,  916,    1,    6],\n",
       "         [  25,   83, 1684,  763,    7,  344, 1643,  441,    2,    8],\n",
       "         [ 587,   34,  210,   91,    0,  437,   56, 3570,    6,    9],\n",
       "         [3072,  198,  449,  186,    0,   18,  317,   50,  613,   97],\n",
       "         [1984,  544,   70,   84,    0,   48,   65,  198,   15, 1992]]),\n",
       "  'Top1Accuracy': 0.4308199882507324,\n",
       "  'Top3Accuracy': 0.7531200051307678,\n",
       "  'Top5Accuracy': 0.8743600249290466},\n",
       " 'zeroshot_CIFAR100': {'ConfusionMatrix': array([[181,   0,   0, ...,   0,   0,   0],\n",
       "         [  6,  63,   0, ...,   0,   1,   0],\n",
       "         [  1,   0,  93, ...,   0,   4,   0],\n",
       "         ...,\n",
       "         [  0,   1,   1, ...,  44,   4,   4],\n",
       "         [  0,   0,  20, ...,   0,  58,   1],\n",
       "         [  3,   9,   5, ...,   1,   1,   3]]),\n",
       "  'Top1Accuracy': 0.1580599993467331,\n",
       "  'Top3Accuracy': 0.30281999707221985,\n",
       "  'Top5Accuracy': 0.38218000531196594},\n",
       " 'zeroshot_DTD': {'ConfusionMatrix': array([[ 0,  0,  0, ..., 16,  0,  0],\n",
       "         [ 0,  1,  1, ...,  2,  0,  0],\n",
       "         [ 0,  0,  4, ...,  3,  1,  0],\n",
       "         ...,\n",
       "         [ 0,  0,  0, ...,  7,  0,  1],\n",
       "         [ 0,  0,  1, ...,  7,  2,  2],\n",
       "         [ 0,  0,  0, ...,  7,  0,  1]]),\n",
       "  'Top1Accuracy': 0.10797872394323349,\n",
       "  'Top3Accuracy': 0.24202127754688263,\n",
       "  'Top5Accuracy': 0.3202127516269684},\n",
       " 'zeroshot_FGVCAircraft': {'ConfusionMatrix': array([[0, 0, 0, ..., 0, 0, 0],\n",
       "         [0, 0, 0, ..., 0, 0, 0],\n",
       "         [0, 0, 0, ..., 0, 0, 0],\n",
       "         ...,\n",
       "         [0, 0, 0, ..., 0, 0, 0],\n",
       "         [0, 0, 0, ..., 0, 0, 0],\n",
       "         [0, 0, 0, ..., 0, 0, 0]]),\n",
       "  'Top1Accuracy': 0.009598080068826675,\n",
       "  'Top3Accuracy': 0.0344930998980999,\n",
       "  'Top5Accuracy': 0.05008998140692711},\n",
       " 'zeroshot_Food101': {'ConfusionMatrix': array([[24,  3,  0, ...,  1,  3, 11],\n",
       "         [ 0, 23,  0, ...,  0,  0,  4],\n",
       "         [ 4,  8,  0, ...,  0,  4,  8],\n",
       "         ...,\n",
       "         [ 3,  6,  0, ...,  0, 10,  5],\n",
       "         [ 2,  6,  0, ...,  0,  2,  2],\n",
       "         [ 6,  3,  0, ...,  0,  4, 95]]),\n",
       "  'Top1Accuracy': 0.10368316620588303,\n",
       "  'Top3Accuracy': 0.20038284361362457,\n",
       "  'Top5Accuracy': 0.26454126834869385},\n",
       " 'zeroshot_OxfordIIITPet': {'ConfusionMatrix': array([[ 0,  1,  4, ...,  1,  4,  4],\n",
       "         [ 0,  7, 22, ...,  0,  2,  8],\n",
       "         [ 0, 14, 14, ...,  8,  5, 12],\n",
       "         ...,\n",
       "         [ 0,  7, 25, ...,  5,  0, 15],\n",
       "         [ 0,  0, 27, ...,  0, 13,  4],\n",
       "         [ 1,  2, 20, ..., 10,  4,  4]]),\n",
       "  'Top1Accuracy': 0.08016304671764374,\n",
       "  'Top3Accuracy': 0.19048912823200226,\n",
       "  'Top5Accuracy': 0.27989131212234497},\n",
       " 'zeroshot_StanfordCars': {'ConfusionMatrix': array([[0, 0, 0, ..., 0, 0, 0],\n",
       "         [0, 0, 0, ..., 0, 0, 0],\n",
       "         [0, 0, 0, ..., 0, 0, 0],\n",
       "         ...,\n",
       "         [0, 3, 0, ..., 2, 0, 0],\n",
       "         [0, 0, 0, ..., 0, 0, 0],\n",
       "         [0, 0, 0, ..., 0, 0, 0]]),\n",
       "  'Top1Accuracy': 0.008472494781017303,\n",
       "  'Top3Accuracy': 0.023575639352202415,\n",
       "  'Top5Accuracy': 0.03929273039102554},\n",
       " 'zeroshot_STL10': {'ConfusionMatrix': array([[392,  48,   9,   4,   1,   1,   6,   1,  28,  10],\n",
       "         [  1, 335,   0,  34,   8,  21,  13,  87,   1,   0],\n",
       "         [  3,   2, 429,   2,   0,   1,   1,   0,   4,  58],\n",
       "         [  0,  14,   0, 246,  48,  81,  21,  88,   0,   2],\n",
       "         [  0,   2,   1,   5, 384,  15,  63,  30,   0,   0],\n",
       "         [  0,   7,   0,  55,   9, 342,  50,  36,   0,   1],\n",
       "         [  0,   0,   0,   2,   7,  34, 447,  10,   0,   0],\n",
       "         [  0,  40,   0,  17,  11,  28,  27, 377,   0,   0],\n",
       "         [ 57,   8,   3,   2,   0,   1,   7,   1, 397,  24],\n",
       "         [ 21,   3,  22,   3,   0,   0,   7,   2,   5, 437]]),\n",
       "  'Top1Accuracy': 0.7572000026702881,\n",
       "  'Top3Accuracy': 0.9340000152587891,\n",
       "  'Top5Accuracy': 0.980400025844574},\n",
       " '__config__': {'model': {'model': {'image_encoder_name': 'google/vit-base-patch16-224', 'text_encoder_name': 'google-bert/bert-base-uncased', 'tokenizer': {'use_fast': False}}}, 'data': {'datasets': ['Caltech101', 'Caltech256', 'CIFAR10', 'CIFAR100', 'DTD', 'FGVCAircraft', 'Food101', 'OxfordIIITPet', 'StanfordCars', 'STL10'], 'dataloader': {'test': {'batch_size': 128, 'shuffle': False, 'num_workers': 8, 'pin_memory': True}, 'coco_val': {'batch_size': 128, 'shuffle': False}}, 'root': '${paths.data_dir}', 'use_subset_probe': {'value': False, 'subset_fraction': 0.1}, 'dataset': {'val': ['coco_val_dummy'], 'transforms': {'enabled': True, 'RandAugment': {'num_ops': 3, 'magnitude': 8}}, 'max_seq_length': 72, 'coco': {'root': '/home/data/COCOcaptions/', 'split_train': '/home/phisch/multimodal/my_datasets/coco_karpathy_train.json', 'split_val': '${paths.root_dir}src/data/datasets/coco_karpathy_val.json', 'split_test': '/home/phisch/multimodal/my_datasets/coco_karpathy_test.json'}, 'vg': {'data_dir': '/pfss/mlde/workspaces/mlde_wsp_PI_Roig/shared/datasets/VG_Bhavin/VG'}, 'cc3m': {'data_dir': '/pfss/mlde/workspaces/mlde_wsp_PI_Roig/shared/datasets/CC3m/h5'}, 'cifar10': {'root': '/home/phisch/data/cifar-10-batches-py', 'download': False}, 'caltech101': {'root': '/pfss/mlde/workspaces/mlde_wsp_PI_Roig/shared/datasets/cifar10', 'download': False}, 'use_subset': {'value': True, 'subset_fraction': 0.2}, 'use_subset_probe': {'value': False, 'subset_fraction': 0.1}}}, 'lightning': {'trainer': {'strategy': 'auto', 'fast_dev_run': False, 'log_every_n_steps': 1, 'max_epochs': 1, 'devices': [2], 'num_nodes': 1, 'accelerator': 'gpu', 'deterministic': 'warn', 'precision': '16-mixed', 'gradient_clip_algorithm': 'norm', 'gradient_clip_val': 1.0}, 'seed': 69}, 'callbacks': {'zeroshot': {'callback': {'batch_size': '${data.dataloader.test.batch_size}', 'device': 'cuda', 'top_k': [1, 3, 5], 'top_k_preds': 20, 'average': 'micro', 'confusion_matrix': True, 'multi_label': False, 'verbose': True, 'templates': ['a photo of a {}.']}, 'use_itm_head': False}}, 'paths': {'root_dir': '${oc.env:PROJECT_ROOT}', 'data_dir': '/home/data/', 'log_dir': '${paths.root_dir}/logs/', 'work_dir': '${hydra:runtime.cwd}', 'ckpts_dir': '/data/bhavin/ckpts_old/'}, 'logger': {'wandb': {'entity': 'arena-multimodal-lossfns', 'project': 'multimodal', 'name': '', 'tags': [], 'offline': True, 'group': '', 'dir': '${paths.root_dir}/wandb/'}}, 'models': ['oc0g8fql', '9nvg456i'], 'result_filename': 'zero_shot_with_1_template'}}"
      ]
     },
     "execution_count": 32,
     "metadata": {},
     "output_type": "execute_result"
    }
   ],
   "source": [
    "fpath=\"/home/phisch/multimodal/test_results/full_dataset/old/9v1wy0vb-zeroshot.pkl\"\n",
    "with open(fpath, \"rb\") as f:\n",
    "    data = pickle.load(f)\n",
    "data[\"zeroshot\"][\"1_template\"]"
   ]
  },
  {
   "cell_type": "code",
   "execution_count": 38,
   "metadata": {},
   "outputs": [
    {
     "name": "stdout",
     "output_type": "stream",
     "text": [
      "9v1wy0vb\n",
      "oc0g8fql\n",
      "93t3xgrr\n",
      "zathvtrx\n",
      "yh1adr3g\n",
      "9nvg456i\n"
     ]
    }
   ],
   "source": [
    "new_data = {}\n",
    "\n",
    "dir_path = \"/home/phisch/multimodal/test_results/zero_shot/full_dataset/1_template/\"\n",
    "for file_name in os.listdir(dir_path):\n",
    "    model_id = file_name.split(\"_\")[0]\n",
    "    print(model_id)\n",
    "    with open(dir_path + file_name, \"rb\") as f:\n",
    "        data = pickle.load(f)\n",
    "    for dataset, result in data.items():\n",
    "        new_data[dataset] = {}\n",
    "        new_data[dataset][\"1_templates\"] = result\n",
    "    with open(dir_path + f\"{model_id}-zeroshot-results.p\", \"wb\") as f:\n",
    "        pickle.dump(new_data, f)"
   ]
  },
  {
   "cell_type": "code",
   "execution_count": 40,
   "metadata": {},
   "outputs": [
    {
     "data": {
      "text/plain": [
       "{'zeroshot_Caltech101': {'1_templates': {'ConfusionMatrix': array([[0, 0, 0, ..., 0, 0, 0],\n",
       "          [0, 0, 0, ..., 0, 0, 0],\n",
       "          [0, 0, 0, ..., 0, 0, 0],\n",
       "          ...,\n",
       "          [0, 0, 0, ..., 0, 0, 0],\n",
       "          [0, 0, 0, ..., 0, 0, 0],\n",
       "          [0, 0, 0, ..., 0, 0, 0]]),\n",
       "   'Top1Accuracy': 0.012390145100653172,\n",
       "   'Top3Accuracy': 0.04178072139620781,\n",
       "   'Top5Accuracy': 0.060654085129499435}},\n",
       " 'zeroshot_Caltech256': {'1_templates': {'ConfusionMatrix': array([[  0,   0,   0, ...,   0,   1,  34],\n",
       "          [  0,   0,   0, ...,   0,   1,  56],\n",
       "          [  0,   0,   0, ...,   0,   1,  79],\n",
       "          ...,\n",
       "          [  0,   0,   0, ...,   0,   0,  59],\n",
       "          [  0,   0,   0, ...,   0,   0,  25],\n",
       "          [  0,   0,   0, ...,   0,   6, 396]]),\n",
       "   'Top1Accuracy': 0.017480090260505676,\n",
       "   'Top3Accuracy': 0.023687971755862236,\n",
       "   'Top5Accuracy': 0.03136614337563515}},\n",
       " 'zeroshot_CIFAR10': {'1_templates': {'ConfusionMatrix': array([[ 374,    1,  224,    6,  868,   24,    5,  293, 3074,  131],\n",
       "          [ 278,    2,   81,    1,  124,   24,    4,  274, 4178,   34],\n",
       "          [ 232,    0,  133,    5,  364,   16,    3,  425, 3715,  107],\n",
       "          [ 257,    0,  287,    7,  583,    7,   13,  723, 2933,  190],\n",
       "          [ 110,    0,  113,    1,  124,    0,    0,  234, 4387,   31],\n",
       "          [ 262,    0,  259,    5,  529,    8,   11,  662, 3101,  163],\n",
       "          [ 178,    0,   97,    0,  176,    6,    5,  146, 4381,   11],\n",
       "          [ 432,    2,  140,    1,  145,    9,    8,  243, 3969,   51],\n",
       "          [ 232,    8,  159,    0,  325,   63,    0,  245, 3809,  159],\n",
       "          [ 190,    1,   60,    0,   51,    8,    2,   98, 4568,   22]]),\n",
       "   'Top1Accuracy': 0.09453999996185303,\n",
       "   'Top3Accuracy': 0.28233999013900757,\n",
       "   'Top5Accuracy': 0.49601998925209045}},\n",
       " 'zeroshot_CIFAR100': {'1_templates': {'ConfusionMatrix': array([[ 0,  0,  0, ...,  1,  0,  8],\n",
       "          [ 0,  0,  0, ...,  4,  0,  1],\n",
       "          [ 0,  0,  0, ..., 16,  0,  1],\n",
       "          ...,\n",
       "          [ 0,  0,  0, ...,  9,  1,  0],\n",
       "          [ 0,  0,  0, ..., 10,  3,  3],\n",
       "          [ 0,  0,  0, ..., 11,  1,  9]]),\n",
       "   'Top1Accuracy': 0.009999999776482582,\n",
       "   'Top3Accuracy': 0.028599999845027924,\n",
       "   'Top5Accuracy': 0.0516199991106987}},\n",
       " 'zeroshot_DTD': {'1_templates': {'ConfusionMatrix': array([[ 0,  0,  0, ...,  0,  3,  0],\n",
       "          [ 0,  0,  0, ...,  0,  1,  0],\n",
       "          [ 0,  0,  0, ...,  0,  4,  0],\n",
       "          ...,\n",
       "          [ 0,  0,  0, ...,  0,  4,  0],\n",
       "          [ 0,  0,  0, ...,  0, 13,  0],\n",
       "          [ 0,  0,  0, ...,  0,  9,  0]]),\n",
       "   'Top1Accuracy': 0.020744681358337402,\n",
       "   'Top3Accuracy': 0.06170212849974632,\n",
       "   'Top5Accuracy': 0.10478723049163818}},\n",
       " 'zeroshot_FGVCAircraft': {'1_templates': {'ConfusionMatrix': array([[3, 0, 1, ..., 0, 0, 3],\n",
       "          [2, 0, 0, ..., 0, 0, 2],\n",
       "          [2, 0, 1, ..., 0, 0, 3],\n",
       "          ...,\n",
       "          [2, 0, 1, ..., 0, 0, 1],\n",
       "          [1, 0, 1, ..., 0, 0, 4],\n",
       "          [2, 0, 0, ..., 0, 0, 1]]),\n",
       "   'Top1Accuracy': 0.012897420674562454,\n",
       "   'Top3Accuracy': 0.035692863166332245,\n",
       "   'Top5Accuracy': 0.058188363909721375}},\n",
       " 'zeroshot_Food101': {'1_templates': {'ConfusionMatrix': array([[ 0,  0, 15, ...,  0,  5,  0],\n",
       "          [ 0,  0,  5, ...,  0,  5,  0],\n",
       "          [ 0,  0, 22, ...,  0,  6,  0],\n",
       "          ...,\n",
       "          [ 0,  0,  8, ...,  0,  7,  0],\n",
       "          [ 0,  0,  4, ...,  0,  6,  0],\n",
       "          [ 0,  0, 13, ...,  0, 14,  0]]),\n",
       "   'Top1Accuracy': 0.010468646883964539,\n",
       "   'Top3Accuracy': 0.032660067081451416,\n",
       "   'Top5Accuracy': 0.053544554859399796}},\n",
       " 'zeroshot_OxfordIIITPet': {'1_templates': {'ConfusionMatrix': array([[ 0,  0,  0, ...,  8,  4,  0],\n",
       "          [ 0,  0,  0, ...,  6,  8,  0],\n",
       "          [ 0,  0,  0, ..., 15, 10,  0],\n",
       "          ...,\n",
       "          [ 0,  0,  0, ...,  6,  9,  0],\n",
       "          [ 0,  0,  0, ..., 18,  7,  1],\n",
       "          [ 0,  0,  0, ..., 33,  5,  1]]),\n",
       "   'Top1Accuracy': 0.036684781312942505,\n",
       "   'Top3Accuracy': 0.08940217643976212,\n",
       "   'Top5Accuracy': 0.14782609045505524}},\n",
       " 'zeroshot_StanfordCars': {'1_templates': {'ConfusionMatrix': array([[ 3,  0,  0, ...,  0,  0,  0],\n",
       "          [ 5,  0,  0, ...,  0,  0,  0],\n",
       "          [10,  0,  0, ...,  0,  0,  0],\n",
       "          ...,\n",
       "          [ 7,  0,  0, ...,  0,  0,  0],\n",
       "          [ 9,  0,  0, ...,  0,  0,  0],\n",
       "          [ 2,  0,  0, ...,  0,  0,  0]]),\n",
       "   'Top1Accuracy': 0.006999017670750618,\n",
       "   'Top3Accuracy': 0.018050098791718483,\n",
       "   'Top5Accuracy': 0.028118859976530075}},\n",
       " 'zeroshot_STL10': {'1_templates': {'ConfusionMatrix': array([[ 64,   4,   2,   4, 109,   3,  12,   0, 286,  16],\n",
       "          [ 54,  13,  12,   6,  96,   7,  50,  10, 232,  20],\n",
       "          [100,   1,   5,   1,  43,   6,  35,   4, 301,   4],\n",
       "          [ 41,  20,  19,   2, 136,  13,  28,   8, 216,  17],\n",
       "          [ 49,  26,  12,   0,  63,   2,  52,   7, 285,   4],\n",
       "          [ 65,  21,  14,   2, 146,   5,  39,   6, 170,  32],\n",
       "          [139,  19,  11,   2,  35,   8,  23,   3, 249,  11],\n",
       "          [ 37,  32,  18,   2,  89,   6,  39,   4, 242,  31],\n",
       "          [ 31,   0,   5,   0,  62,   8,  12,   1, 358,  23],\n",
       "          [ 51,   0,   8,   0,  22,   1,   2,   2, 405,   9]]),\n",
       "   'Top1Accuracy': 0.10920000076293945,\n",
       "   'Top3Accuracy': 0.3075999915599823,\n",
       "   'Top5Accuracy': 0.506600022315979}},\n",
       " '__config__': {'1_templates': {'model': {'model': {'image_encoder_name': 'google/vit-base-patch16-224', 'text_encoder_name': 'google-bert/bert-base-uncased', 'tokenizer': {'use_fast': False}}}, 'data': {'datasets': ['Caltech101', 'Caltech256', 'CIFAR10', 'CIFAR100', 'DTD', 'FGVCAircraft', 'Food101', 'OxfordIIITPet', 'StanfordCars', 'STL10'], 'dataloader': {'test': {'batch_size': 128, 'shuffle': False, 'num_workers': 8, 'pin_memory': True}, 'coco_val': {'batch_size': 128, 'shuffle': False}}, 'root': '${paths.data_dir}', 'use_subset_probe': {'value': False, 'subset_fraction': 0.1}, 'dataset': {'val': ['coco_val_dummy'], 'transforms': {'enabled': True, 'RandAugment': {'num_ops': 3, 'magnitude': 8}}, 'max_seq_length': 72, 'coco': {'root': '/home/data/COCOcaptions/', 'split_train': '/home/phisch/multimodal/my_datasets/coco_karpathy_train.json', 'split_val': '${paths.root_dir}src/data/datasets/coco_karpathy_val.json', 'split_test': '/home/phisch/multimodal/my_datasets/coco_karpathy_test.json'}, 'vg': {'data_dir': '/pfss/mlde/workspaces/mlde_wsp_PI_Roig/shared/datasets/VG_Bhavin/VG'}, 'cc3m': {'data_dir': '/pfss/mlde/workspaces/mlde_wsp_PI_Roig/shared/datasets/CC3m/h5'}, 'cifar10': {'root': '/home/phisch/data/cifar-10-batches-py', 'download': False}, 'caltech101': {'root': '/pfss/mlde/workspaces/mlde_wsp_PI_Roig/shared/datasets/cifar10', 'download': False}, 'use_subset': {'value': True, 'subset_fraction': 0.2}, 'use_subset_probe': {'value': False, 'subset_fraction': 0.1}}}, 'lightning': {'trainer': {'strategy': 'auto', 'fast_dev_run': False, 'log_every_n_steps': 1, 'max_epochs': 1, 'devices': [3], 'num_nodes': 1, 'accelerator': 'gpu', 'deterministic': 'warn', 'precision': '16-mixed', 'gradient_clip_algorithm': 'norm', 'gradient_clip_val': 1.0}, 'seed': 69}, 'callbacks': {'zeroshot': {'callback': {'batch_size': '${data.dataloader.test.batch_size}', 'device': 'cuda', 'top_k': [1, 3, 5], 'top_k_preds': 20, 'average': 'micro', 'confusion_matrix': True, 'multi_label': False, 'verbose': True, 'templates': ['a photo of a {}.']}, 'use_itm_head': False}}, 'paths': {'root_dir': '${oc.env:PROJECT_ROOT}', 'data_dir': '/home/data/', 'log_dir': '${paths.root_dir}/logs/', 'work_dir': '${hydra:runtime.cwd}', 'ckpts_dir': '/data/bhavin/ckpts_old/'}, 'logger': {'wandb': {'entity': 'arena-multimodal-lossfns', 'project': 'multimodal', 'name': '', 'tags': [], 'offline': True, 'group': '', 'dir': '${paths.root_dir}/wandb/'}}, 'models': ['zathvtrx', '9v1wy0vb'], 'result_filename': 'zero_shot_with_1_template'}}}"
      ]
     },
     "execution_count": 40,
     "metadata": {},
     "output_type": "execute_result"
    }
   ],
   "source": [
    "fpath=\"/home/phisch/multimodal/test_results/full_dataset/9v1wy0vb-zeroshot-results.p\"\n",
    "with open(fpath, \"rb\") as f:\n",
    "    data = pickle.load(f)\n",
    "data"
   ]
  },
  {
   "cell_type": "code",
   "execution_count": 54,
   "metadata": {},
   "outputs": [
    {
     "data": {
      "text/plain": [
       "18"
      ]
     },
     "execution_count": 54,
     "metadata": {},
     "output_type": "execute_result"
    }
   ],
   "source": [
    "len(data[\"__config__\"][\"callbacks\"][\"zeroshot\"][\"callback\"][\"templates\"])"
   ]
  },
  {
   "cell_type": "code",
   "execution_count": 72,
   "metadata": {},
   "outputs": [],
   "source": [
    "templates = [\"0_templates\", \"1_template\", \"5_templates\", \"18_templates\"]\n",
    "\n",
    "dirname = \"/home/phisch/multimodal/test_results/full_dataset_im384/old\"\n",
    "for fname in os.listdir(dirname):\n",
    "    if \"-zeroshot-results\" in fname:\n",
    "        fpath = os.path.join(dirname, fname)\n",
    "        with open(fpath, \"rb\") as f:\n",
    "            data_dict = pickle.load(f)\n",
    "        new_data_dict = {\"zeroshot_CIFAR10\": {\"18_templates\": None}, \"__config__\": {\"18_templates\": None}}\n",
    "        for dataset, result in data_dict.items():\n",
    "                new_data_dict[dataset][\"18_templates\"] = result\n",
    "        # new_data_dict = {dataset: {template: None for template in templates} for dataset in data_dict[\"zeroshot\"][\"0_templates\"].keys()}\n",
    "        # for template in templates:\n",
    "        #     for dataset, result in data_dict[\"zeroshot\"][template].items():\n",
    "        #         new_data_dict[dataset][template] = result\n",
    "        # new_fname = fname.replace(\"-zeroshot-results\", \"-zeroshot-results_1\")\n",
    "        new_dirname = \"/home/phisch/multimodal/test_results/full_dataset_im384\"\n",
    "        new_fpath = os.path.join(new_dirname, fname)\n",
    "        with open(new_fpath, \"wb\") as f:\n",
    "            pickle.dump(new_data_dict, f)"
   ]
  },
  {
   "cell_type": "code",
   "execution_count": 7,
   "metadata": {},
   "outputs": [
    {
     "data": {
      "text/plain": [
       "dict_keys(['zeroshot_CIFAR10', '__config__'])"
      ]
     },
     "execution_count": 7,
     "metadata": {},
     "output_type": "execute_result"
    }
   ],
   "source": [
    "data_dict.keys()"
   ]
  }
 ],
 "metadata": {
  "kernelspec": {
   "display_name": "py3.8",
   "language": "python",
   "name": "python3"
  },
  "language_info": {
   "codemirror_mode": {
    "name": "ipython",
    "version": 3
   },
   "file_extension": ".py",
   "mimetype": "text/x-python",
   "name": "python",
   "nbconvert_exporter": "python",
   "pygments_lexer": "ipython3",
   "version": "3.8.5"
  }
 },
 "nbformat": 4,
 "nbformat_minor": 2
}
