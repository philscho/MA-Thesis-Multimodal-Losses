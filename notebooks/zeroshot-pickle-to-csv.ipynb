{
 "cells": [
  {
   "cell_type": "code",
   "execution_count": 4,
   "metadata": {},
   "outputs": [],
   "source": [
    "import pickle\n",
    "import csv\n",
    "import os\n",
    "from pathlib import Path"
   ]
  },
  {
   "cell_type": "code",
   "execution_count": 3,
   "metadata": {},
   "outputs": [
    {
     "name": "stdout",
     "output_type": "stream",
     "text": [
      "bj2tw5qt\n",
      "mkqp8hhx\n",
      "shf56cne\n",
      "tibwkymx\n",
      "gtp8w6c4\n",
      "khb9ltyn\n",
      "txva2y48\n"
     ]
    }
   ],
   "source": [
    "dir = \"/home/phisch/multimodal/test_results/full_dataset_mlm\"\n",
    "csv_fpath = \"/home/phisch/multimodal/test_results/model_scores.csv\"\n",
    "method_notes = \"1_templates\"\n",
    "\n",
    "with open(csv_fpath, mode='a') as scores_csv:\n",
    "    writer = csv.writer(scores_csv, delimiter=',', quotechar='\"', quoting=csv.QUOTE_MINIMAL)\n",
    "    # for sname in os.listdir(dir):\n",
    "    #     dir1 = os.path.join(dir, sname)\n",
    "    for fname in os.listdir(dir):\n",
    "        fpath = os.path.join(dir, fname)\n",
    "        if not \"-zeroshot-results\" in fname: continue\n",
    "        model_id = fname.split(\"-\")[0]\n",
    "        print(model_id)\n",
    "        with open(fpath, \"rb\") as f:\n",
    "            data = pickle.load(f)\n",
    "        for k, v in data.items():\n",
    "            if k == \"__config__\": continue\n",
    "            method = k.split(\"_\")[0]\n",
    "            dataset_name = k.split(\"_\")[1]\n",
    "            for k2, v2 in v[method_notes].items():\n",
    "                    metric = k2\n",
    "                    if metric == \"ConfusionMatrix\": continue\n",
    "                    score = v2\n",
    "                    writer.writerow([model_id, dataset_name, method, metric, score, method_notes])"
   ]
  },
  {
   "cell_type": "markdown",
   "metadata": {},
   "source": [
    "### Linear probe"
   ]
  },
  {
   "cell_type": "code",
   "execution_count": 5,
   "metadata": {},
   "outputs": [
    {
     "name": "stdout",
     "output_type": "stream",
     "text": [
      "3burj4np\n"
     ]
    }
   ],
   "source": [
    "dir = \"/home/phisch/multimodal/test_results/linear_probe-image_enc-last_hidden/full_dataset_aug/x\"\n",
    "csv_fpath = \"/home/phisch/multimodal/test_results/model_scores_linear_probe.csv\"\n",
    "method_notes = \"last_image_layer\"\n",
    "\n",
    "with open(csv_fpath, mode='a') as scores_csv:\n",
    "    writer = csv.writer(scores_csv, delimiter=',', quotechar='\"', quoting=csv.QUOTE_MINIMAL)\n",
    "    # for sname in os.listdir(dir):\n",
    "    #     dir1 = os.path.join(dir, sname)\n",
    "    for fname in os.listdir(dir):\n",
    "        fpath = os.path.join(dir, fname)\n",
    "        if not \"-linear_probe-results\" in fname: continue\n",
    "        model_id = fname.split(\"-\")[0]\n",
    "        print(model_id)\n",
    "        with open(fpath, \"rb\") as f:\n",
    "            data = pickle.load(f)\n",
    "        for k, v in data.items():\n",
    "            if k == \"__config__\": continue\n",
    "            method = k.split(\"_\")[0]\n",
    "            dataset_name = k.split(\"_\")[1]\n",
    "            for k2, v2 in v.items():\n",
    "                    metric = k2\n",
    "                    if metric == \"ConfusionMatrix\": continue\n",
    "                    score = v2\n",
    "                    writer.writerow([model_id, dataset_name, method, metric, score, method_notes])"
   ]
  },
  {
   "cell_type": "code",
   "execution_count": 7,
   "metadata": {},
   "outputs": [
    {
     "name": "stdout",
     "output_type": "stream",
     "text": [
      "u5l6rwc4\n",
      "d4112qkb\n",
      "gh3j06nh\n",
      "8el3y1x8\n",
      "n5trwpk9\n",
      "udtu05nw\n",
      "e2kwl0iu\n",
      "ojnkbbrd\n",
      "2udboe06\n",
      "dsp551hg\n",
      "2k0xgnrt\n",
      "1j1wb3o6\n",
      "x7kjrc29\n",
      "6gvnn76i\n",
      "qkk0yi2q\n",
      "03avtdyk\n",
      "08q77hgf\n",
      "kx1devsu\n",
      "93t3xgrr\n",
      "9v1wy0vb\n",
      "zathvtrx\n",
      "oc0g8fql\n",
      "yh1adr3g\n",
      "9nvg456i\n",
      "3burj4np\n",
      "ng70n4a4\n",
      "p99godxb\n",
      "7m9tx2jf\n",
      "95ddsmmz\n",
      "xpbl8wfc\n",
      "mkqp8hhx\n",
      "khb9ltyn\n",
      "tibwkymx\n",
      "txva2y48\n",
      "gtp8w6c4\n",
      "shf56cne\n",
      "bj2tw5qt\n",
      "f19vtgpv\n",
      "668yutoa\n",
      "pllfz8k6\n",
      "c5v74o65\n",
      "07xhwbwd\n",
      "8gpipykd\n",
      "32yprt3g\n",
      "xarqrl5t\n",
      "3b3zvcnp\n",
      "6z9rakfu\n",
      "5ib9fce5\n",
      "ogi7d638\n",
      "e35tvg9i\n",
      "hd0d88w6\n",
      "jgjh5o3y\n",
      "2ctuh8qt\n",
      "usf43diq\n",
      "v7kw2sco\n",
      "nq3c74wi\n",
      "bz3dvkm5\n",
      "8estzlel\n",
      "v8r6ibfz\n",
      "ps81urf1\n",
      "95qxia4w\n"
     ]
    }
   ],
   "source": [
    "dir = \"/home/phisch/multimodal/test_results/linear_probe-image_enc-last_hidden\"\n",
    "csv_fpath = \"/home/phisch/multimodal/test_results/model_scores_linear_probe.csv\"\n",
    "method_notes = \"last_image_layer\"\n",
    "\n",
    "with open(csv_fpath, mode='a') as scores_csv:\n",
    "    writer = csv.writer(scores_csv, delimiter=',', quotechar='\"', quoting=csv.QUOTE_MINIMAL)\n",
    "    # for sname in os.listdir(dir):\n",
    "    #     dir1 = os.path.join(dir, sname)\n",
    "    for dname in os.listdir(dir):\n",
    "        dir1 = os.path.join(dir, dname)\n",
    "        if not os.path.isdir(dir1): continue\n",
    "        for fname in os.listdir(dir1):\n",
    "            fpath = os.path.join(dir1, fname)\n",
    "            if not \"-linear_probe-results\" in fname: continue\n",
    "            model_id = fname.split(\"-\")[0]\n",
    "            print(model_id)\n",
    "            with open(fpath, \"rb\") as f:\n",
    "                data = pickle.load(f)\n",
    "            for k, v in data.items():\n",
    "                if k == \"__config__\": continue\n",
    "                method = k.split(\"_\")[0]\n",
    "                dataset_name = k.split(\"_\")[1]\n",
    "                for k2, v2 in v.items():\n",
    "                        metric = k2\n",
    "                        if metric == \"ConfusionMatrix\": continue\n",
    "                        score = v2\n",
    "                        writer.writerow([model_id, dataset_name, method, metric, score, method_notes])"
   ]
  },
  {
   "cell_type": "markdown",
   "metadata": {},
   "source": [
    "#### For zero-shot data dicts"
   ]
  },
  {
   "cell_type": "code",
   "execution_count": 7,
   "metadata": {},
   "outputs": [
    {
     "name": "stdout",
     "output_type": "stream",
     "text": [
      "9nvg456i\n",
      "93t3xgrr\n",
      "yh1adr3g\n",
      "oc0g8fql\n"
     ]
    }
   ],
   "source": [
    "dir = \"/home/phisch/multimodal/test_results/zero_shot/all_text_layers\"\n",
    "csv_fpath = \"/home/phisch/multimodal/test_results/model_scores_zero_shot_text_layers.csv\"\n",
    "\n",
    "with open(csv_fpath, mode='a') as scores_csv:\n",
    "    writer = csv.writer(scores_csv, delimiter=',', quotechar='\"', quoting=csv.QUOTE_MINIMAL)\n",
    "    for sname in os.listdir(dir):\n",
    "        dir1 = os.path.join(dir, sname)\n",
    "        if not sname == \"full_dataset_2\": continue\n",
    "        for fname in os.listdir(dir1):\n",
    "            fpath = os.path.join(dir1, fname)\n",
    "            if not \"-zero_shot-results\" in fname: continue\n",
    "            model_id = fname.split(\"-\")[0]\n",
    "            print(model_id)\n",
    "            with open(fpath, \"rb\") as f:\n",
    "                data = pickle.load(f)\n",
    "            for k, v in data.items():\n",
    "                if k == \"__config__\": continue\n",
    "                method = k.split(\"_\")[0]\n",
    "                dataset_name = k.split(\"_\")[1].split(\"-\")[0]\n",
    "                layer = k.split(\"-\")[1]\n",
    "                method = method + \"-\" + layer\n",
    "                for k2, v2 in v.items():\n",
    "                    method_notes = k2\n",
    "                    for k3, v3 in v2.items():\n",
    "                        metric = k3\n",
    "                        if metric == \"ConfusionMatrix\": continue\n",
    "                        score = v3\n",
    "                        writer.writerow([model_id, dataset_name, method, metric, score, method_notes])"
   ]
  },
  {
   "cell_type": "code",
   "execution_count": 3,
   "metadata": {},
   "outputs": [],
   "source": [
    "dir = \"/home/phisch/multimodal/test_results/zero_shot/all_text_layers\"\n",
    "dir2 = \"/home/phisch/multimodal/test_results/zero_shot/all_text_layers/full_dataset\"\n",
    "\n",
    "for fname in os.listdir(dir):\n",
    "    fpath = os.path.join(dir, fname)\n",
    "    if fpath.endswith(\"full_dataset\"): continue\n",
    "    with open(fpath, \"rb\") as f:\n",
    "        new_data = pickle.load(f)\n",
    "        fpath2 = os.path.join(dir2, fname)\n",
    "        with open(fpath2, \"rb\") as f2:\n",
    "            old_data = pickle.load(f2)\n",
    "            # merge old_data and new_data dictionaries\n",
    "            for k, v in new_data.items():\n",
    "                if k == \"__config__\": continue\n",
    "                old_data[k] = v"
   ]
  },
  {
   "cell_type": "code",
   "execution_count": 6,
   "metadata": {},
   "outputs": [],
   "source": [
    "import pandas as pd\n",
    "import yaml\n",
    "\n",
    "# Load the CSV file\n",
    "# csv_file_path = \"/home/phisch/multimodal/test_results/model_scores.csv\"\n",
    "csv_file_path = \"/home/phisch/multimodal/test_results/model_scores_linear_probe.csv\"\n",
    "df = pd.read_csv(csv_file_path)\n",
    "\n",
    "# Load the YAML file\n",
    "yaml_file_path = '/home/phisch/multimodal/configs/checkpoints/model_id_mapping.yaml'\n",
    "with open(yaml_file_path, 'r') as file:\n",
    "    model_mapping = yaml.safe_load(file)\n",
    "\n",
    "# Function to get dataset_fraction with exception\n",
    "def get_dataset_fraction(model_id):\n",
    "    if model_mapping[model_id]['image_encoder'] == 'google/vit-base-patch16-384':\n",
    "        return 1.384\n",
    "    return model_mapping[model_id]['subset_fraction']\n",
    "\n",
    "# Fill missing values in model_name and dataset_fraction\n",
    "df.loc[df['model_name'].isna(), 'model_name'] = df['model_id'].map(lambda x: model_mapping[x]['name'])\n",
    "df.loc[df['dataset_fraction'].isna(), 'dataset_fraction'] = df['model_id'].map(get_dataset_fraction)\n",
    "\n",
    "# Save the updated CSV file\n",
    "df.to_csv(csv_file_path, index=False)"
   ]
  },
  {
   "cell_type": "code",
   "execution_count": null,
   "metadata": {},
   "outputs": [
    {
     "data": {
      "text/plain": [
       "dict_keys(['linear_ImageNet-100-0.1', 'linear_ImageNet-100-0.01', 'linear_Caltech101', 'linear_Caltech256', 'linear_CIFAR10', 'linear_CIFAR100', 'linear_DTD', 'linear_FGVCAircraft', 'linear_Food101', 'linear_OxfordIIITPet', 'linear_StanfordCars', '__config__', 'linear_Places365', 'linear_STL10'])"
      ]
     },
     "execution_count": 2,
     "metadata": {},
     "output_type": "execute_result"
    }
   ],
   "source": [
    "import pickle\n",
    "\n",
    "fpath = \"/home/phisch/multimodal/test_results/linear_probe-image_enc-last_hidden/full_dataset_aug/3burj4np-linear_probe-results.p\"\n",
    "with open(fpath, \"rb\") as f:\n",
    "    data = pickle.load(f)\n",
    "data"
   ]
  },
  {
   "cell_type": "code",
   "execution_count": 5,
   "metadata": {},
   "outputs": [],
   "source": [
    "import pandas as pd\n",
    "\n",
    "# Load the CSV file into a DataFrame\n",
    "df = pd.read_csv('/home/phisch/multimodal/test_results/model_scores_linear_probe.csv')\n",
    "\n",
    "# Define the specific values for each column\n",
    "specific_values = {\n",
    "    'dataset': 'OxfordIIITPet',\n",
    "    'method_notes': 'last_image_layer',\n",
    "    # Add more columns and their specific values as needed\n",
    "}\n",
    "\n",
    "# Delete rows where the specific values are present in the specified columns\n",
    "df = df[~((df['dataset'] == 'OxfordIIITPet') & (df['method_notes'] == 'last_image_layer'))]\n",
    "\n",
    "# Save the updated DataFrame back to a CSV file\n",
    "df.to_csv('/home/phisch/multimodal/test_results/model_scores_linear_probe_.csv', index=False)"
   ]
  },
  {
   "cell_type": "code",
   "execution_count": 6,
   "metadata": {},
   "outputs": [],
   "source": [
    "import pandas as pd\n",
    "import yaml\n",
    "\n",
    "# Load the CSV file\n",
    "csv_file_path = \"/home/phisch/multimodal/test_results/model_scores_linear_probe.csv\"\n",
    "df = pd.read_csv(csv_file_path)\n",
    "\n",
    "df['method_notes'] = df['method_notes'].replace(\"last_image_layer\", \"pooling_layer\")\n",
    "\n",
    "# Save the updated CSV file\n",
    "df.to_csv(csv_file_path, index=False)"
   ]
  }
 ],
 "metadata": {
  "kernelspec": {
   "display_name": "py3.8",
   "language": "python",
   "name": "python3"
  },
  "language_info": {
   "codemirror_mode": {
    "name": "ipython",
    "version": 3
   },
   "file_extension": ".py",
   "mimetype": "text/x-python",
   "name": "python",
   "nbconvert_exporter": "python",
   "pygments_lexer": "ipython3",
   "version": "3.8.5"
  }
 },
 "nbformat": 4,
 "nbformat_minor": 2
}
